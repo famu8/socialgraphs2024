{
 "cells": [
  {
   "cell_type": "markdown",
   "metadata": {},
   "source": [
    "# Formalia:\n",
    "\n",
    "Please read the [assignment overview page](https://github.com/SocialComplexityLab/socialgraphs2024/wiki/Assignments) carefully before proceeding. This page contains information about formatting (including formats etc), group sizes, and many other aspects of handing in the assignment. \n",
    "\n",
    "_If you fail to follow these simple instructions, it will negatively impact your grade!_\n",
    "\n",
    "**Due date and time**: The assignment is due on Tuesday October 1st, 2024 at 23:55. Hand in your IPython notebook file (with extension `.ipynb`) via DTU Learn"
   ]
  },
  {
   "cell_type": "markdown",
   "metadata": {},
   "source": [
    "# Part 1: Exploring the friendship paradox. \n",
    "\n",
    "This first part draws on the friendship paradox exercise from Week 3. You should provide solutions to the following exercises from **Part 3** of that week.\n",
    "\n",
    "* *The friendship paradox in BA networks*\n",
    "* *The friendship paradox more generally*\n",
    "* *The friendship paradox and the configuration model*\n",
    "* *Growth without preferential attachment*\n"
   ]
  },
  {
   "cell_type": "markdown",
   "metadata": {},
   "source": [
    "We first create our own Barabasi-Albert model as explained in the beginning of Week 3 notebook. Friendship Paradox is a phenomenon that explains that on average, individual's friends have more friends than that individual [1]. "
   ]
  },
  {
   "cell_type": "code",
   "execution_count": 2,
   "metadata": {},
   "outputs": [],
   "source": [
    "import numpy as np\n",
    "import networkx as nx\n",
    "import random\n"
   ]
  },
  {
   "cell_type": "code",
   "execution_count": 30,
   "metadata": {},
   "outputs": [
    {
     "name": "stdout",
     "output_type": "stream",
     "text": [
      "Friendship paradox is true 90.5% of the time\n"
     ]
    }
   ],
   "source": [
    "# The Friendship Paradox in BA networks\n",
    "\n",
    "# Initialize the Barabási-Albert network \n",
    "n_nodes = 5000\n",
    "m_edges = 3  # Increasing the number of edges attached from each new node\n",
    "random.seed(123)\n",
    "\n",
    "# Start with a small connected network (m_0 nodes)\n",
    "m_0 = 5 \n",
    "ba = nx.Graph()\n",
    "for i in range(m_0):\n",
    "    for j in range(i + 1, m_0):\n",
    "        ba.add_edge(i, j)\n",
    "\n",
    "# Preferential attachment\n",
    "for new_node in range(m_0, n_nodes):\n",
    "    degrees = np.array([ba.degree(n) for n in ba.nodes])\n",
    "    degree_sum = np.sum(degrees)\n",
    "\n",
    "    # Compute the probability of connecting to each existing node\n",
    "    probabilities = degrees / degree_sum\n",
    "\n",
    "    # Choose m existing nodes to connect to based on the probabilities\n",
    "    targets = np.random.choice(ba.nodes, size=m_edges, replace=False, p=probabilities)\n",
    "\n",
    "    # Add edges between the new node and the chosen targets\n",
    "    for target in targets:\n",
    "        ba.add_edge(new_node, target)\n",
    "\n",
    "# Function to test the friendship paradox for a random node\n",
    "def test_friendship_paradox(G):\n",
    "    # Choose a random node\n",
    "    node = random.choice(list(G.nodes()))\n",
    "    node_degree = G.degree[node]\n",
    "    # Get neighbors of the node and calculate their average degree\n",
    "    neighbors = list(G.neighbors(node))\n",
    "    if neighbors:\n",
    "        neighbors_degrees = [G.degree[neighbor] for neighbor in neighbors]\n",
    "        avg_neighbors_degree = np.mean(neighbors_degrees)\n",
    "        # Compare the if it is true that the neighbors have more \"friends\" than the random node\n",
    "        return avg_neighbors_degree > node_degree\n",
    "    # If node has no neighbors\n",
    "    return False \n",
    "\n",
    "# Run the experiment 1000 times\n",
    "num_trials = 1000\n",
    "paradox_true_count = sum(test_friendship_paradox(ba) for _ in range(num_trials))\n",
    "\n",
    "# Calculate the fraction of times the paradox is true\n",
    "fraction_paradox_true = paradox_true_count / num_trials\n",
    "\n",
    "# Part A result\n",
    "print(f\"Friendship paradox is true {fraction_paradox_true*100}% of the time\")"
   ]
  },
  {
   "cell_type": "markdown",
   "metadata": {},
   "source": [
    "> B. The friendship paradox more generally\n",
    "> * What if the power law is flatter, e.g. $p(k) \\sim k^{-\\gamma}$ with $\\gamma = 2$? Will the fraction of times the paradox is true be higher or lower? \n",
    ">  - First answer this question by simply reasoning. Think about what it would mean in terms of hubs that the power law is flatter? **In social networks we would find that the number of connections a node has doesn't follow a random pattern but a power law. Thus, there will be few nodes with a high number of connections known as hubs, and most of the nodes will have few connections. When the power law is flatter, we refer to a \"extreme\" case when the largest hub has even more connections than they would do in a steeper power law distribution.\n",
    "In this context, we would see that in a network with power flatter distribution almost every node is connected to the largest hub, thus, the degree of this node will be greater than the average degree of the nodes in the network as a whole. Applying this to friendship, on average our friends have more friends than we do.**\n",
    "\n",
    ">  - Now simulate a new network with the slope mentioned above. You can generate networks with power-law degree distributions using the [configuation model](https://en.wikipedia.org/wiki/Configuration_model). The `networkx` funtion is here [`nx.configuration_model`](https://networkx.org/documentation/stable/reference/generated/networkx.generators.degree_seq.configuration_model.html). I suggest you make the network pretty big ... let's say 5000 nodes or more.\n",
    ">     * Hint 0: In the `networkx` function mentioned above, you need a degree sequence. This can be created using the so-called transformation method. If we can generate a random real number $r$ uniformly distributed in the range $0 \\leq r < 1$, then $x = x_{\\textrm{min}}(1 – r)^{-1/\\alpha - 1}$ is a random power-law-distributed real number in the range $x_{\\textrm{min}} \\leq x < \\infty$ with exponent $\\alpha$. Note that there has to be a lower limit $x_\\textrm{min}$ on the range; the power-law distribution diverges as $x\\rightarrow 0$. See [this paper](https://www.cs.cornell.edu/courses/cs6241/2019sp/readings/Newman-2005-distributions.pdf) for more details.\n",
    ">     * Hint 1: The sequence generated using the method mentioned above consists of real numbers, we need integers, so it needs to be rounded as well.\n",
    ">     * Hint 2: Also, due to some details of how the configuation works (see the [wiki page](https://en.wikipedia.org/wiki/Configuration_model) for details), the sequence cannot have a sum which is an odd number, so if your sequence turns out odd, just choose an element and add 1 to its degree, that way the sum will be an even number.\n",
    "> - Did you reason correctly above? For what fraction of the time is the friendship paradox true for your network with a new slope? **In this case, we see that the friendship paradox is true for almost 100% of the times.**"
   ]
  },
  {
   "cell_type": "code",
   "execution_count": 7,
   "metadata": {},
   "outputs": [
    {
     "name": "stdout",
     "output_type": "stream",
     "text": [
      "Friendship paradox was true 1000 times, so 100.0% of the time\n"
     ]
    }
   ],
   "source": [
    "def configuration(alfa):\n",
    "    x_min = 1\n",
    "    r = np.random.uniform(size = 5000)\n",
    "    x = (x_min*(1-r)**(-1/alfa -1)).astype(int)\n",
    "    if np.sum(x)%2 != 0: \n",
    "        x = np.append(x, 1)\n",
    "\n",
    "    configuration = nx.configuration_model(x)\n",
    "    return configuration\n",
    "\n",
    "def friendship_paradox_rate(configuration, n_nodes):\n",
    "\n",
    "    nodes = np.random.choice(list(configuration.nodes), size = n_nodes)\n",
    "    degrees_nodes = [configuration.degree[node] for node in nodes]\n",
    "    degree_friend = []\n",
    "    for node in nodes:\n",
    "        friend_list = []\n",
    "        for neigh in list(configuration.neighbors(node)):\n",
    "            friend_list += [configuration.degree[neigh]]\n",
    "        degree_friend += [np.average(friend_list)]\n",
    "    true = (sum(np.array(degree_friend)> np.array(degrees_nodes)))\n",
    "    return true \n",
    "\n",
    "flatter_configuration = configuration(2)\n",
    "rate = friendship_paradox_rate(flatter_configuration, 1000)\n",
    "print(f\"Friendship paradox was true {rate} times, so {rate/1000*100}% of the time\")"
   ]
  },
  {
   "cell_type": "markdown",
   "metadata": {},
   "source": [
    "> - Now generate a network for the configuration model that has *the same slope and number of nodes as **F-BA** in A above*; let's call this new network **F-CM** (for *friendship configuration model*). \n",
    ">    - What fraction of the time is the friendship paradox is true for the **F-CM** network? **Now the friendship paradox is true for approximately 90% of the times, while for an exponent degree of 2 it was almost 100% of the times.**\n",
    ">    - Assuming that **F-BA** and **F-CM** have the same degree sequence can now *think* about if **F-BA** and **F-CM** are different with respect to the friendship paradox. Specifically, please explain your thoughts on the following topics\n",
    ">       * Are there factors beyond the degree-distribution that could impact how frequently the friendship paradox is true? I might consider how network properties like assortativity, clustering, community-structure, etc potentially could impact things (it's OK to search online and add references to your answer). **Assortativity measures the tendency of nodes to connect to other nodes with similar properties, i.e., degree. Thus, the higher the assortativity means high degree nodes tend to connect to other high degree nodes. BA networks tend to have disassortativity, thus, low-degree nodes tend to connect to high degree nodes. CM have neutral assortativity, leading to less pronounced friendship paradox.**\n",
    "\n",
    ">  * How would you test more rigorously if the friendship-paradox is actually true equally often in **F-BA** and **F-CM**? (E.g. how would you run a statistical test to investigate ... or how would you put error-bars on your plots?) **We can use a chi-square test for proportions of nodes for which the friendship paradox is true. In addition, friendship paradox could be quantified in terms of the difference between the characteristics of a node and the average of the same characteristics for the node's neighbors.** "
   ]
  },
  {
   "cell_type": "markdown",
   "metadata": {},
   "source": [
    "As we know from the book: \"The Barabasi model predicts \n",
    "a power law exponent of $3$ while the degree exponent of real networks varies between $2$ and $5$\". A power-law exponent of around $3$ means that it has a steep power-law distribution, rather than a flatter one. This is important because it causes that number of high-degree hubs is smaller and they are less dominant in the network than in if the exponent was $\\gamma = 2$. As it can be seen in the following figure, the power law exponent is 3.05, which is very close to the theoretical value."
   ]
  },
  {
   "cell_type": "code",
   "execution_count": 18,
   "metadata": {},
   "outputs": [
    {
     "name": "stdout",
     "output_type": "stream",
     "text": [
      "Calculating best minimal value for power law fit\n",
      "xmin progress: 00%\r",
      "xmin progress: 01%\r",
      "xmin progress: 03%\r",
      "xmin progress: 04%\r",
      "xmin progress: 06%\r",
      "xmin progress: 07%\r",
      "xmin progress: 09%\r",
      "xmin progress: 10%\r",
      "xmin progress: 12%\r",
      "xmin progress: 14%\r",
      "xmin progress: 15%\r",
      "xmin progress: 17%\r",
      "xmin progress: 18%\r",
      "xmin progress: 20%\r",
      "xmin progress: 21%\r",
      "xmin progress: 23%\r",
      "xmin progress: 25%\r",
      "xmin progress: 26%\r",
      "xmin progress: 28%\r",
      "xmin progress: 29%\r",
      "xmin progress: 31%\r",
      "xmin progress: 32%\r",
      "xmin progress: 34%\r",
      "xmin progress: 35%\r",
      "xmin progress: 37%\r",
      "xmin progress: 39%\r",
      "xmin progress: 40%\r",
      "xmin progress: 42%\r",
      "xmin progress: 43%\r",
      "xmin progress: 45%\r",
      "xmin progress: 46%\r",
      "xmin progress: 48%\r",
      "xmin progress: 50%\r",
      "xmin progress: 51%\r",
      "xmin progress: 53%\r",
      "xmin progress: 54%\r",
      "xmin progress: 56%\r",
      "xmin progress: 57%\r",
      "xmin progress: 59%\r",
      "xmin progress: 60%\r",
      "xmin progress: 62%\r",
      "xmin progress: 64%\r",
      "xmin progress: 65%\r",
      "xmin progress: 67%\r",
      "xmin progress: 68%\r",
      "xmin progress: 70%\r",
      "xmin progress: 71%\r",
      "xmin progress: 73%\r",
      "xmin progress: 75%\r",
      "xmin progress: 76%\r",
      "xmin progress: 78%\r",
      "xmin progress: 79%\r",
      "xmin progress: 81%\r",
      "xmin progress: 82%\r",
      "xmin progress: 84%\r",
      "xmin progress: 85%\r",
      "xmin progress: 87%\r",
      "xmin progress: 89%\r",
      "xmin progress: 90%\r",
      "xmin progress: 92%\r",
      "xmin progress: 93%\r",
      "xmin progress: 95%\r",
      "xmin progress: 96%\r",
      "xmin progress: 98%\r",
      "Estimated power-law exponent (gamma): 3.0517580293726514\n"
     ]
    },
    {
     "data": {
      "text/plain": [
       "<Axes: >"
      ]
     },
     "execution_count": 18,
     "metadata": {},
     "output_type": "execute_result"
    },
    {
     "data": {
      "image/png": "[encoded data removed]",
      "text/plain": [
       "<Figure size 640x480 with 1 Axes>"
      ]
     },
     "metadata": {},
     "output_type": "display_data"
    }
   ],
   "source": [
    "# needs powerlaw installed\n",
    "import powerlaw\n",
    "\n",
    "# Get degree distribution\n",
    "degree_sequence = sorted([d for n, d in ba.degree()], reverse=True)\n",
    "\n",
    "# Fit power law\n",
    "fit = powerlaw.Fit(degree_sequence)\n",
    "\n",
    "# Extract the estimated power-law exponent\n",
    "gamma = fit.power_law.alpha\n",
    "print(f\"Estimated power-law exponent (gamma): {gamma}\")\n",
    "\n",
    "# Plot the degree distribution with the power-law fit\n",
    "fit.plot_pdf(color='b')\n",
    "fit.power_law.plot_pdf(color='r', linestyle='--')"
   ]
  },
  {
   "cell_type": "code",
   "execution_count": 29,
   "metadata": {},
   "outputs": [
    {
     "name": "stdout",
     "output_type": "stream",
     "text": [
      "Friendship paradox for the FCM is true 88.9% of the time\n"
     ]
    }
   ],
   "source": [
    "# Extract the degree sequence from F-BA (G)\n",
    "degree_sequence = [degree for node, degree in ba.degree()]\n",
    "\n",
    "# Part 1: Create the F-CM (Friendship Configuration Model) using the degree sequence\n",
    "G_FCM = nx.configuration_model(degree_sequence)\n",
    "\n",
    "# Test friendship \n",
    "paradox_true_count = sum(test_friendship_paradox(G_FCM) for _ in range(num_trials))\n",
    "\n",
    "# Calculate the fraction of times the paradox is true\n",
    "fraction_paradox_true_fcm = paradox_true_count / num_trials\n",
    "\n",
    "# Part A result\n",
    "print(f\"Friendship paradox for the FCM is true {fraction_paradox_true_fcm*100}% of the time\")\n"
   ]
  },
  {
   "cell_type": "markdown",
   "metadata": {},
   "source": [
    "As we see, BA network has more pronounced friendship paradox."
   ]
  },
  {
   "cell_type": "markdown",
   "metadata": {},
   "source": [
    " Growth without preferential attachment\n",
    "\n",
    "> Finally, we'll build a network of same size and degree as in the exercise above, *using the growth mechanism without the preferential attachment*. Follow the steps below for success\n",
    "> \n",
    ">  1. Grow a new network (the Sune-network) with the same parameters as the **F-BA** network in the exercise above, i.e. 5000 nodes, each new node connects to the existing network, but with one key difference: *have the incoming nodes connect to the existing nodes with* **equal probability**. This is the Sune-network.\n",
    ">  2. Generate an ER network of same number of nodes and links as the Sune-network. \n",
    "> * What are the differences between the ER network and the Sune-network? Explain in your own words. **The Sune-Network grows similarly to BA network but without preferential attachment, it has random attachment. On the other hand, the ER network doesn't grow in a step-by-step fashion like the Sune one. \n",
    "Sune Network has longer tail, it includes nodes with higher degrees as it is based in a BA network. In ER networks, the degree distribution is concentrated in lower values. \n",
    "Regarding the assortativity of the networks, since the Sune-network has a degree of assortativity of close to 0, and the ER network has one of 0.025. The near-zero assortativity in the Sune-network indicates a more random connection pattern compared to the ER network. This can also be infered from the degree distribution plot, where we can see that the Sune network maintains a flatter distribution, while the ER network has a more varied distribution.**\n",
    "\n",
    ">   * *Hints*: To get started, plot the two degree distribution in the same plot. Compare and contrast. Another revealing network property to study is the the number of connected components."
   ]
  },
  {
   "cell_type": "code",
   "execution_count": 32,
   "metadata": {},
   "outputs": [],
   "source": [
    "random.seed(123)\n",
    "sune = nx.Graph()\n",
    "sune.add_node(1)\n",
    "for i in range(2,5000):\n",
    "    sune.add_edge(i, np.random.choice(list(sune.nodes)))"
   ]
  },
  {
   "cell_type": "code",
   "execution_count": 33,
   "metadata": {},
   "outputs": [],
   "source": [
    "er = nx.erdos_renyi_graph(5000, 1/5000)\n"
   ]
  },
  {
   "cell_type": "code",
   "execution_count": 34,
   "metadata": {},
   "outputs": [
    {
     "data": {
      "image/png": "[encoded data removed]",
      "text/plain": [
       "<Figure size 640x480 with 1 Axes>"
      ]
     },
     "metadata": {},
     "output_type": "display_data"
    },
    {
     "name": "stdout",
     "output_type": "stream",
     "text": [
      "The Sune network is connected: True\n",
      "The ER network is connected: False\n",
      "Degree Assortativity for Sune: 0.0009416227314313435\n",
      "Degree Assortativity for ER: 0.025289966025939584\n"
     ]
    }
   ],
   "source": [
    "sune_degrees = [x[1] for x in sune.degree]\n",
    "max_sune = sorted(sune_degrees, reverse=True)[0]\n",
    "min_sune = sorted(sune_degrees)[0]\n",
    "bins_su = np.array(range(min_sune, max_sune+2))\n",
    "\n",
    "er_degrees = [x[1] for x in er.degree]\n",
    "max_er= sorted(er_degrees, reverse=True)[0]\n",
    "min_er = sorted(er_degrees)[0]\n",
    "bins_er = np.array(range(min_er, max_er+2))\n",
    "\n",
    "plt.hist(sune_degrees, edgecolor='yellow', bins=bins_su, label = \"Sune network\", alpha = 0.7)\n",
    "plt.hist(er_degrees, edgecolor='blue', bins=bins_er, label = \"ER network\", alpha = 0.7)\n",
    "plt.title(\"Comparison of Sune network and ER network degree distributions\")\n",
    "plt.legend(loc='upper right')\n",
    "plt.xticks(np.arange(min(sune_degrees)-1, max(sune_degrees)+1, 1.0))\n",
    "\n",
    "plt.show()\n",
    "\n",
    "print(\"The Sune network is connected:\", nx.is_connected(sune))\n",
    "print(\"The ER network is connected:\", nx.is_connected(er))\n",
    "\n",
    "import networkx as nx\n",
    "assortativity = nx.degree_assortativity_coefficient(sune)\n",
    "print(f\"Degree Assortativity for Sune: {assortativity}\")\n",
    "assortativity = nx.degree_assortativity_coefficient(er)\n",
    "print(f\"Degree Assortativity for ER: {assortativity}\")"
   ]
  },
  {
   "cell_type": "markdown",
   "metadata": {},
   "source": [
    "# Part 2: Stats of the Country Music Network\n",
    "\n",
    "This second part requires you to have built the network of Country Musicians as described in the exercises for Week 4. You should complete the following exercise from **Part 2**.\n",
    "\n",
    "* *Simple network statistics and analysis*\n",
    "\n",
    "And the following exercise from **Part 3**\n",
    "\n",
    "* *Let's build a simple visualization of the network*\n",
    "\n",
    "And that's it! You're all set."
   ]
  },
  {
   "cell_type": "code",
   "execution_count": null,
   "metadata": {},
   "outputs": [],
   "source": []
  },
  {
   "cell_type": "markdown",
   "metadata": {},
   "source": [
    "# References\n",
    "\n",
    "[1]  Feld, Scott L. (1991), \"Why your friends have more friends than you do\", American Journal of Sociology, 96 (6): 1464–1477, doi:10.1086/229693, JSTOR 2781907, S2CID 56043992.\n",
    "\n",
    "[2] Cantwell, G. T., Kirkley, A., & Newman, M. E. (2021). The friendship paradox in real and model networks. Journal of Complex Networks, 9(2), cnab011."
   ]
  }
 ],
 "metadata": {
  "anaconda-cloud": {},
  "kernelspec": {
   "display_name": "Python 3 (ipykernel)",
   "language": "python",
   "name": "python3"
  },
  "language_info": {
   "codemirror_mode": {
    "name": "ipython",
    "version": 3
   },
   "file_extension": ".py",
   "mimetype": "text/x-python",
   "name": "python",
   "nbconvert_exporter": "python",
   "pygments_lexer": "ipython3",
   "version": "3.11.4"
  }
 },
 "nbformat": 4,
 "nbformat_minor": 4
}
