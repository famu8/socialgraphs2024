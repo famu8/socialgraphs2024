{
 "cells": [
  {
   "cell_type": "markdown",
   "metadata": {},
   "source": [
    "# Formalia:\n",
    "\n",
    "Please read the [assignment overview page](https://github.com/SocialComplexityLab/socialgraphs2024/wiki/Assignments) carefully before proceeding. This page contains information about formatting (including formats etc), group sizes, and many other aspects of handing in the assignment. \n",
    "\n",
    "_If you fail to follow these simple instructions, it will negatively impact your grade!_\n",
    "\n",
    "**Due date and time**: The assignment is due on Tuesday October 1st, 2024 at 23:55. Hand in your IPython notebook file (with extension `.ipynb`) via DTU Learn"
   ]
  },
  {
   "cell_type": "code",
   "execution_count": 1,
   "metadata": {},
   "outputs": [],
   "source": [
    "import random\n",
    "import os\n",
    "import re\n",
    "\n",
    "import numpy as np\n",
    "import networkx as nx\n",
    "import matplotlib.pyplot as plt\n",
    "import pandas as pd\n",
    "\n",
    "from IPython.display import Image, display"
   ]
  },
  {
   "cell_type": "markdown",
   "metadata": {},
   "source": [
    "# Part 1: Exploring the friendship paradox. \n",
    "\n",
    "This first part draws on the friendship paradox exercise from Week 3. You should provide solutions to the following exercises from **Part 3** of that week.\n",
    "\n",
    "* *The friendship paradox in BA networks*\n",
    "* *The friendship paradox more generally*\n",
    "* *The friendship paradox and the configuration model*\n",
    "* *Growth without preferential attachment*\n"
   ]
  },
  {
   "cell_type": "markdown",
   "metadata": {},
   "source": [
    "> A. The friendship paradox in BA networks\n",
    "> * Pick a node $i$ at random (e.g. use `random.choice`). [Find its degree](https://networkx.github.io/documentation/stable/reference/classes/generated/networkx.Graph.degree.html).\n",
    "> * Find $i$'s [neighbors](https://networkx.github.io/documentation/networkx-1.10/reference/generated/networkx.Graph.neighbors.html?highlight=neighbors#networkx.Graph.neighbors). And calculate their average degree.\n",
    "> * Compare the two numbers to check if it's true that $i$'s friends (on average) have more friends than $i$.\n",
    "> * Do this 1000 times. How many out of those 1000 times is the friendship paradox true in **F-BA**?\n"
   ]
  },
  {
   "cell_type": "markdown",
   "metadata": {},
   "source": [
    "**We begin by creating our own Barabási-Albert model, as outlined at the start of the Week 3 notebook. This process starts with the initialization of a small connected graph comprising five nodes. Subsequently, as new nodes are introduced, the code employs a preferential attachment strategy. This means that nodes with higher degrees (a greater number of connections) have an increased likelihood of forming new links. For each new node, up to a total of 5000, the code calculates the probability of connection based on the degrees of existing nodes and connects the new node to three existing ones.**\n",
    "\n",
    "**The initial selection of parameters was conducted to ensure an accurate power-law distribution, closely aligning with the theoretical values expected of this network type. This will be further discussed in following sections.**\n"
   ]
  },
  {
   "cell_type": "code",
   "execution_count": 2,
   "metadata": {},
   "outputs": [
    {
     "name": "stdout",
     "output_type": "stream",
     "text": [
      "Friendship paradox is true 91.10000000000001% of the time\n"
     ]
    }
   ],
   "source": [
    "# The Friendship Paradox in BA networks\n",
    "\n",
    "# Initialize the Barabási-Albert network \n",
    "n_nodes = 5000\n",
    "m_edges = 3  # Increasing the number of edges attached from each new node\n",
    "random.seed(123)\n",
    "\n",
    "# Start with a small connected network (m_0 nodes)\n",
    "m_0 = 5 \n",
    "ba = nx.Graph()\n",
    "for i in range(m_0):\n",
    "    for j in range(i + 1, m_0):\n",
    "        ba.add_edge(i, j)\n",
    "\n",
    "# Preferential attachment\n",
    "for new_node in range(m_0, n_nodes):\n",
    "    degrees = np.array([ba.degree(n) for n in ba.nodes])\n",
    "    degree_sum = np.sum(degrees)\n",
    "\n",
    "    # Compute the probability of connecting to each existing node\n",
    "    probabilities = degrees / degree_sum\n",
    "\n",
    "    # Choose m existing nodes to connect to based on the probabilities\n",
    "    targets = np.random.choice(ba.nodes, size=m_edges, replace=False, p=probabilities)\n",
    "\n",
    "    # Add edges between the new node and the chosen targets\n",
    "    for target in targets:\n",
    "        ba.add_edge(new_node, target)\n"
   ]
  },
  {
   "cell_type": "markdown",
   "metadata": {},
   "source": [
    "**The Friendship Paradox is a phenomenon that posits that, on average, an individual's friends have more friends than the individual does [1].** \n",
    "\n",
    "**This was determined by selecting a random node and then examining its neighbors. We calculated the degree of that node and the average degree of its neighbors for comparison.**\n",
    "\n",
    "**After repeating this process 1000 times, we observed some variability depending on the random initialization. However, we concluded that the Friendship Paradox holds true in 90% of the cases in our Barabási–Albert network.**"
   ]
  },
  {
   "cell_type": "code",
   "execution_count": 20,
   "metadata": {},
   "outputs": [
    {
     "name": "stdout",
     "output_type": "stream",
     "text": [
      "Friendship paradox is true 90.2% of the time\n"
     ]
    }
   ],
   "source": [
    "# Function to test the friendship paradox for a random node\n",
    "def test_friendship_paradox(G):\n",
    "    # Choose a random node\n",
    "    node = random.choice(list(G.nodes()))\n",
    "    node_degree = G.degree[node]\n",
    "    # Get neighbors of the node and calculate their average degree\n",
    "    neighbors = list(G.neighbors(node))\n",
    "    if neighbors:\n",
    "        neighbors_degrees = [G.degree[neighbor] for neighbor in neighbors]\n",
    "        avg_neighbors_degree = np.mean(neighbors_degrees)\n",
    "        # Compare the if it is true that the neighbors have more \"friends\" than the random node\n",
    "        return avg_neighbors_degree > node_degree\n",
    "    # If node has no neighbors\n",
    "    return False \n",
    "\n",
    "# Run the experiment 1000 times\n",
    "num_trials = 1000\n",
    "paradox_true_count = sum(test_friendship_paradox(ba) for _ in range(num_trials))\n",
    "\n",
    "# Calculate the fraction of times the paradox is true\n",
    "fraction_paradox_true = paradox_true_count / num_trials\n",
    "\n",
    "# Part A result\n",
    "print(f\"Friendship paradox is true {fraction_paradox_true*100}% of the time\")"
   ]
  },
  {
   "cell_type": "markdown",
   "metadata": {},
   "source": [
    "> B. The friendship paradox more generally\n",
    "> * What if the power law is flatter, e.g. $p(k) \\sim k^{-\\gamma}$ with $\\gamma = 2$? Will the fraction of times the paradox is true be higher or lower? \n",
    ">  - First answer this question by simply reasoning. Think about what it would mean in terms of hubs that the power law is flatter? \n",
    ">  - Now simulate a new network with the slope mentioned above. You can generate networks with power-law degree distributions using the [configuation model](https://en.wikipedia.org/wiki/Configuration_model). The `networkx` funtion is here [`nx.configuration_model`](https://networkx.org/documentation/stable/reference/generated/networkx.generators.degree_seq.configuration_model.html). I suggest you make the network pretty big ... let's say 5000 nodes or more.\n",
    ">     * Hint 0: In the `networkx` function mentioned above, you need a degree sequence. This can be created using the so-called transformation method. If we can generate a random real number $r$ uniformly distributed in the range $0 \\leq r < 1$, then $x = x_{\\textrm{min}}(1 – r)^{-1/\\alpha - 1}$ is a random power-law-distributed real number in the range $x_{\\textrm{min}} \\leq x < \\infty$ with exponent $\\alpha$. Note that there has to be a lower limit $x_\\textrm{min}$ on the range; the power-law distribution diverges as $x\\rightarrow 0$. See [this paper](https://www.cs.cornell.edu/courses/cs6241/2019sp/readings/Newman-2005-distributions.pdf) for more details.\n",
    ">     * Hint 1: The sequence generated using the method mentioned above consists of real numbers, we need integers, so it needs to be rounded as well.\n",
    ">     * Hint 2: Also, due to some details of how the configuation works (see the [wiki page](https://en.wikipedia.org/wiki/Configuration_model) for details), the sequence cannot have a sum which is an odd number, so if your sequence turns out odd, just choose an element and add 1 to its degree, that way the sum will be an even number.\n",
    "> - Did you reason correctly above? For what fraction of the time is the friendship paradox true for your network with a new slope? \n",
    "\n",
    "**In social networks we would find that the number of connections a node has doesn't follow a random pattern but a power law. Thus, there will be few nodes with a high number of connections known as hubs, and most of the nodes will have few connections. When the power law is flatter, we refer to a case when the largest hub has even more connections than they would do in a steeper power law distribution.\n",
    "In this context, we would see that in a network with power flatter distribution almost every node is connected to the largest hub, thus, the degree of this node will be greater than the average degree of the nodes in the network as a whole. Applying this to friendship, on average our friends have more friends than we do. Thus, we expect that the flatter the network, the higher the probability of the Friendship Paradox to be true.**\n",
    "\n",
    "**Now we will test the Friendship Paradox using the Configuration Model. The function starts by generating 5000 random real numbers (r) uniformly distributed between 0 and 1. It then uses the transformation method to create a sequence of degrees following a power-law distribution with a given exponent alfa and a lower bound. These degrees are converted to integers. Since the degree sequence must have an even sum, a requirement for the configuration model to work, if the sum of the degrees is odd, the code adds an extra degree of 1 to ensure the sum is even. Finally, the degree sequence is passed.**"
   ]
  },
  {
   "cell_type": "code",
   "execution_count": 22,
   "metadata": {},
   "outputs": [
    {
     "name": "stdout",
     "output_type": "stream",
     "text": [
      "Friendship paradox was true 994 times, so 99.4% of the time\n"
     ]
    }
   ],
   "source": [
    "def configuration(alfa):\n",
    "    x_min = 1\n",
    "    r = np.random.uniform(size = 5000)\n",
    "    x = (x_min*(1-r)**(-1/alfa -1)).astype(int)\n",
    "    if np.sum(x)%2 != 0: \n",
    "        x = np.append(x, 1)\n",
    "\n",
    "    configuration = nx.configuration_model(x)\n",
    "    return configuration\n",
    "\n",
    "def friendship_paradox_rate(configuration, n_nodes):\n",
    "\n",
    "    nodes = np.random.choice(list(configuration.nodes), size = n_nodes)\n",
    "    degrees_nodes = [configuration.degree[node] for node in nodes]\n",
    "    degree_friend = []\n",
    "    for node in nodes:\n",
    "        friend_list = []\n",
    "        for neigh in list(configuration.neighbors(node)):\n",
    "            friend_list += [configuration.degree[neigh]]\n",
    "        degree_friend += [np.average(friend_list)]\n",
    "    true = (sum(np.array(degree_friend)> np.array(degrees_nodes)))\n",
    "    return true \n",
    "\n",
    "flatter_configuration = configuration(2)\n",
    "rate = friendship_paradox_rate(flatter_configuration, 1000)\n",
    "print(f\"Friendship paradox was true {rate} times, so {rate/1000*100}% of the time\")"
   ]
  },
  {
   "cell_type": "code",
   "execution_count": 23,
   "metadata": {},
   "outputs": [
    {
     "name": "stdout",
     "output_type": "stream",
     "text": [
      "Friendship paradox was true 996 times, so 99.6% of the time\n"
     ]
    }
   ],
   "source": [
    "# Sanity check on how it would look with a lower value\n",
    "flatter_configuration = configuration(1)\n",
    "rate = friendship_paradox_rate(flatter_configuration, 1000)\n",
    "print(f\"Friendship paradox was true {rate} times, so {rate/1000*100}% of the time\")"
   ]
  },
  {
   "cell_type": "markdown",
   "metadata": {},
   "source": [
    "**In this case, we see that the friendship paradox is true for almost 100% of the times.**"
   ]
  },
  {
   "cell_type": "markdown",
   "metadata": {},
   "source": [
    "C. The Friendship Paradox and the Configuration Model\n",
    "> - Now generate a network for the configuration model that has *the same slope and number of nodes as **F-BA** in A above*; let's call this new network **F-CM** (for *friendship configuration model*). \n",
    ">    - What fraction of the time is the friendship paradox is true for the **F-CM** network? **Now the friendship paradox is true for approximately 90% of the times, while for an exponent degree of 2 it was almost 100% of the times.**\n",
    ">    - Assuming that **F-BA** and **F-CM** have the same degree sequence can now *think* about if **F-BA** and **F-CM** are different with respect to the friendship paradox. Specifically, please explain your thoughts on the following topics\n",
    ">       * Are there factors beyond the degree-distribution that could impact how frequently the friendship paradox is true? I might consider how network properties like assortativity, clustering, community-structure, etc potentially could impact things (it's OK to search online and add references to your answer). \n",
    "\n",
    ">  * How would you test more rigorously if the friendship-paradox is actually true equally often in **F-BA** and **F-CM**? (E.g. how would you run a statistical test to investigate ... or how would you put error-bars on your plots?) "
   ]
  },
  {
   "cell_type": "markdown",
   "metadata": {},
   "source": [
    "**As we know from the book: \"The Barabasi model predicts \n",
    "a power law exponent of $3$ while the degree exponent of real networks varies between $2$ and $5$\". A power-law exponent of around $3$ means that it has a steep power-law distribution, rather than a flatter one. This is important because it causes that number of high-degree hubs is smaller and they are less dominant in the network than in if the exponent was 2.**\n",
    "\n",
    "**We will first check the gamma value of the Albert-Barabasi network we generated. In the figure below, howed compares the observed degree distribution (blue) with the fitted power-law distribution (red). If the BA network follows a power law with an exponent of 3, the blue line should match the slope of the red dashed line, which is our case. \n",
    "Still, the power law exponent is 3.05, which is very close to the theoretical value. Although some deviations are visible, particularly at the extremes, this is normal due to network size and random fluctuations in the data.**\n"
   ]
  },
  {
   "cell_type": "code",
   "execution_count": 24,
   "metadata": {},
   "outputs": [
    {
     "name": "stdout",
     "output_type": "stream",
     "text": [
      "Calculating best minimal value for power law fit\n",
      "xmin progress: 00%\r",
      "xmin progress: 01%\r",
      "xmin progress: 03%\r",
      "xmin progress: 04%\r",
      "xmin progress: 06%\r",
      "xmin progress: 07%\r",
      "xmin progress: 09%\r",
      "xmin progress: 11%\r",
      "xmin progress: 12%\r",
      "xmin progress: 14%\r",
      "xmin progress: 15%\r",
      "xmin progress: 17%\r",
      "xmin progress: 19%\r",
      "xmin progress: 20%\r",
      "xmin progress: 22%\r",
      "xmin progress: 23%\r",
      "xmin progress: 25%\r",
      "xmin progress: 26%\r",
      "xmin progress: 28%\r",
      "xmin progress: 30%\r",
      "xmin progress: 31%\r",
      "xmin progress: 33%\r",
      "xmin progress: 34%\r",
      "xmin progress: 36%\r",
      "xmin progress: 38%\r",
      "xmin progress: 39%\r",
      "xmin progress: 41%\r",
      "xmin progress: 42%\r",
      "xmin progress: 44%\r",
      "xmin progress: 46%\r",
      "xmin progress: 47%\r",
      "xmin progress: 49%\r",
      "xmin progress: 50%\r",
      "xmin progress: 52%\r",
      "xmin progress: 53%\r",
      "xmin progress: 55%\r",
      "xmin progress: 57%\r",
      "xmin progress: 58%\r",
      "xmin progress: 60%\r",
      "xmin progress: 61%\r",
      "xmin progress: 63%\r",
      "xmin progress: 65%\r",
      "xmin progress: 66%\r",
      "xmin progress: 68%\r",
      "xmin progress: 69%\r",
      "xmin progress: 71%\r",
      "xmin progress: 73%\r",
      "xmin progress: 74%\r",
      "xmin progress: 76%\r",
      "xmin progress: 77%\r",
      "xmin progress: 79%\r",
      "xmin progress: 80%\r",
      "xmin progress: 82%\r",
      "xmin progress: 84%\r",
      "xmin progress: 85%\r",
      "xmin progress: 87%\r",
      "xmin progress: 88%\r",
      "xmin progress: 90%\r",
      "xmin progress: 92%\r",
      "xmin progress: 93%\r",
      "xmin progress: 95%\r",
      "xmin progress: 96%\r",
      "xmin progress: 98%\r",
      "Estimated power-law exponent (gamma): 3.0355197010273947\n"
     ]
    },
    {
     "data": {
      "image/png": "[encoded data removed]",
      "text/plain": [
       "<Figure size 640x480 with 1 Axes>"
      ]
     },
     "metadata": {},
     "output_type": "display_data"
    }
   ],
   "source": [
    "# needs powerlaw installed\n",
    "import powerlaw\n",
    "import matplotlib.pyplot as plt\n",
    "\n",
    "# Get degree distribution\n",
    "degree_sequence = sorted([d for n, d in ba.degree()], reverse=True)\n",
    "\n",
    "# Fit power law\n",
    "fit = powerlaw.Fit(degree_sequence)\n",
    "\n",
    "# Extract the estimated power-law exponent\n",
    "gamma = fit.power_law.alpha\n",
    "print(f\"Estimated power-law exponent (gamma): {gamma}\")\n",
    "\n",
    "# Plot the degree distribution with the power-law fit\n",
    "fig, ax = plt.subplots()\n",
    "fit.plot_pdf(color='b', label='Degree Distribution', ax=ax)\n",
    "fit.power_law.plot_pdf(color='r', linestyle='--', label=f'Power Law Fit (gamma={gamma:.2f})', ax=ax)\n",
    "\n",
    "# Add title and labels\n",
    "ax.set_title('Degree Distribution with Power-Law Fit')\n",
    "ax.set_xlabel('Degree')\n",
    "ax.set_ylabel('Probability Density')\n",
    "ax.legend()\n",
    "\n",
    "# Display the plot\n",
    "plt.tight_layout()\n",
    "plt.show()\n"
   ]
  },
  {
   "cell_type": "markdown",
   "metadata": {},
   "source": [
    "**Now we generate a network for the configuration model that has the same slope and number of nodes as the initial Barabasi-Albert Network. Then, we test for the Friendship Paradox as we did before.**"
   ]
  },
  {
   "cell_type": "code",
   "execution_count": 5,
   "metadata": {},
   "outputs": [
    {
     "name": "stdout",
     "output_type": "stream",
     "text": [
      "Friendship paradox for the FCM is true 90.3% of the time\n"
     ]
    }
   ],
   "source": [
    "# Extract the degree sequence from F-BA (G)\n",
    "degree_sequence = [degree for node, degree in ba.degree()]\n",
    "\n",
    "# Part 1: Create the F-CM (Friendship Configuration Model) using the degree sequence\n",
    "G_FCM = nx.configuration_model(degree_sequence)\n",
    "\n",
    "# Test friendship \n",
    "paradox_true_count = sum(test_friendship_paradox(G_FCM) for _ in range(num_trials))\n",
    "\n",
    "# Calculate the fraction of times the paradox is true\n",
    "fraction_paradox_true_fcm = paradox_true_count / num_trials\n",
    "\n",
    "# Part A result\n",
    "print(f\"Friendship paradox for the FCM is true {fraction_paradox_true_fcm*100}% of the time\")\n"
   ]
  },
  {
   "cell_type": "markdown",
   "metadata": {},
   "source": [
    "**Now that we changed the slope of the of the Configuration Model we see that the Friendship Paradox is true approximately 90% of the time, while before it was 100%.**\n",
    "\n",
    "**In considering the factors that influence the prevalence of the friendship paradox beyond degree-distribution, it is indeed pertinent to examine network properties such as assortativity, clustering, and community structure. Assortativity, specifically, is a measure of a network's tendency to connect nodes with similar properties, like degree. Networks with high assortativity are characterized by high-degree nodes that are more likely to be connected to other high-degree nodes. This contrasts with BA networks, which exhibit disassortativity, meaning that nodes with a low degree are more commonly linked to high-degree nodes. Conversely, CM networks display neutral assortativity, which results in a less pronounced friendship paradox. These network properties can significantly affect the frequency of the friendship paradox's occurrence.**\n",
    "\n",
    "**To more rigorously test the prevalence of the friendship paradox in both F-BA and F-CM networks, one could employ a chi-square test to compare the proportions of nodes that exhibit the paradox. This statistical test would determine if there is a significant difference in the occurrence of the friendship paradox between the two network types. Additionally, quantifying the friendship paradox can be achieved by calculating the discrepancy between a node's characteristics and the average characteristics of its neighbors. This approach would provide a clearer understanding of the paradox's extent within the networks.**"
   ]
  },
  {
   "cell_type": "markdown",
   "metadata": {},
   "source": [
    "D. Growth without preferential attachment\n",
    "\n",
    "> Finally, we'll build a network of same size and degree as in the exercise above, *using the growth mechanism without the preferential attachment*. Follow the steps below for success\n",
    "> \n",
    ">  1. Grow a new network (the Sune-network) with the same parameters as the **F-BA** network in the exercise above, i.e. 5000 nodes, each new node connects to the existing network, but with one key difference: *have the incoming nodes connect to the existing nodes with* **equal probability**. This is the Sune-network.\n",
    ">  2. Generate an ER network of same number of nodes and links as the Sune-network. \n",
    "> * What are the differences between the ER network and the Sune-network? Explain in your own words. \n",
    "\n",
    ">   * *Hints*: To get started, plot the two degree distribution in the same plot. Compare and contrast. Another revealing network property to study is the the number of connected components."
   ]
  },
  {
   "cell_type": "code",
   "execution_count": 6,
   "metadata": {},
   "outputs": [],
   "source": [
    "# Generate the Sune Network\n",
    "random.seed(123)\n",
    "sune = nx.Graph()\n",
    "sune.add_node(1)\n",
    "for i in range(2,5000):\n",
    "    sune.add_edge(i, np.random.choice(list(sune.nodes)))\n",
    "# Generate ER Network\n",
    "er = nx.erdos_renyi_graph(5000, 1/5000)\n"
   ]
  },
  {
   "cell_type": "markdown",
   "metadata": {},
   "source": [
    "**The Sune-Network grows similarly to BA network but without preferential attachment, it has random attachment. On the other hand, the ER network doesn't grow in a step-by-step fashion like the Sune one. \n",
    "Sune Network has longer tail, it includes nodes with higher degrees as it is based in a BA network. In ER networks, the degree distribution is concentrated in lower values.**\n",
    "\n",
    "**Regarding the assortativity of the networks, since the Sune-network has a degree of assortativity of close to 0, and the ER network has one of 0.025. The near-zero assortativity in the Sune-network indicates a more random connection pattern compared to the ER network. This can also be infered from the degree distribution plot, where we can see that the Sune network maintains a flatter distribution, while the ER network has a more varied distribution.**"
   ]
  },
  {
   "cell_type": "code",
   "execution_count": 8,
   "metadata": {},
   "outputs": [
    {
     "data": {
      "image/png": "[encoded data removed]",
      "text/plain": [
       "<Figure size 640x480 with 1 Axes>"
      ]
     },
     "metadata": {},
     "output_type": "display_data"
    },
    {
     "name": "stdout",
     "output_type": "stream",
     "text": [
      "The Sune network is connected: True\n",
      "The ER network is connected: False\n",
      "Degree Assortativity for Sune: -0.00021841482795703407\n",
      "Degree Assortativity for ER: 0.025289966025939584\n"
     ]
    }
   ],
   "source": [
    "sune_degrees = [x[1] for x in sune.degree]\n",
    "max_sune = sorted(sune_degrees, reverse=True)[0]\n",
    "min_sune = sorted(sune_degrees)[0]\n",
    "bins_su = np.array(range(min_sune, max_sune+2))\n",
    "\n",
    "er_degrees = [x[1] for x in er.degree]\n",
    "max_er= sorted(er_degrees, reverse=True)[0]\n",
    "min_er = sorted(er_degrees)[0]\n",
    "bins_er = np.array(range(min_er, max_er+2))\n",
    "\n",
    "plt.hist(sune_degrees, edgecolor='yellow', bins=bins_su, label = \"Sune network\", alpha = 0.7)\n",
    "plt.hist(er_degrees, edgecolor='blue', bins=bins_er, label = \"ER network\", alpha = 0.7)\n",
    "plt.title(\"Comparison of Sune network and ER network degree distributions\")\n",
    "plt.legend(loc='upper right')\n",
    "plt.xticks(np.arange(min(sune_degrees)-1, max(sune_degrees)+1, 1.0))\n",
    "\n",
    "plt.show()\n",
    "\n",
    "print(\"The Sune network is connected:\", nx.is_connected(sune))\n",
    "print(\"The ER network is connected:\", nx.is_connected(er))\n",
    "\n",
    "import networkx as nx\n",
    "assortativity = nx.degree_assortativity_coefficient(sune)\n",
    "print(f\"Degree Assortativity for Sune: {assortativity}\")\n",
    "assortativity = nx.degree_assortativity_coefficient(er)\n",
    "print(f\"Degree Assortativity for ER: {assortativity}\")"
   ]
  },
  {
   "cell_type": "markdown",
   "metadata": {},
   "source": [
    "# Part 2: Stats of the Country Music Network\n",
    "\n",
    "This second part requires you to have built the network of Country Musicians as described in the exercises for Week 4. You should complete the following exercise from **Part 2**.\n",
    "\n",
    "* *Simple network statistics and analysis*\n",
    "\n",
    "And the following exercise from **Part 3**\n",
    "\n",
    "* *Let's build a simple visualization of the network*\n",
    "\n",
    "And that's it! You're all set.\n",
    "----------------------------------------------\n",
    "---------------------------------------------"
   ]
  },
  {
   "cell_type": "markdown",
   "metadata": {},
   "source": [
    "> *Exercise*: Simple network statistics and analysis\n",
    "\n",
    "> * What is the number of nodes in the network? \n",
    "> * More importantly, what is the number of links? (Chat with a fellow student or a TA to make sure you're in the right ball-park)\n",
    "> * Plot the in and out-degree distributions for the entire network. What do you observe? Can you explain why the in-degree distribution is different from the out-degree distribution?\n",
    ">     * Compare the out-degree distribution to a *random network* with the same number of nodes and links.\n",
    ">     * Compare the in-degree distribution to a *scale-free* network with the same number of nodes.\n",
    "> * Who are the top 5 most connected performers (Report results for in-degrees and out-degrees, that is, who has highest in-degree, who has highest out-degree)? Comment on your findings. Is this what you would have expected?\n",
    "> * What are the 10 pages with the longest wiki entries? (use the `length of content` attribute to figure this one out)?\n",
    "\n",
    "<div class=\"alert alert-block alert-info\">\n",
    "For this exercise, I hope you'll do everything yourself. This is a part where you learn something by writing the code.\n",
    "</div>"
   ]
  },
  {
   "cell_type": "code",
   "execution_count": 9,
   "metadata": {},
   "outputs": [
    {
     "ename": "FileNotFoundError",
     "evalue": "[WinError 3] El sistema no puede encontrar la ruta especificada: './country_performers'",
     "output_type": "error",
     "traceback": [
      "\u001b[1;31m---------------------------------------------------------------------------\u001b[0m",
      "\u001b[1;31mFileNotFoundError\u001b[0m                         Traceback (most recent call last)",
      "Cell \u001b[1;32mIn[9], line 2\u001b[0m\n\u001b[0;32m      1\u001b[0m output_dir\u001b[38;5;241m=\u001b[39m\u001b[38;5;124m'\u001b[39m\u001b[38;5;124m./country_performers\u001b[39m\u001b[38;5;124m'\u001b[39m\n\u001b[1;32m----> 2\u001b[0m raw_performers \u001b[38;5;241m=\u001b[39m [file\u001b[38;5;241m.\u001b[39mreplace(\u001b[38;5;124m'\u001b[39m\u001b[38;5;124m_\u001b[39m\u001b[38;5;124m'\u001b[39m, \u001b[38;5;124m'\u001b[39m\u001b[38;5;124m \u001b[39m\u001b[38;5;124m'\u001b[39m)\u001b[38;5;241m.\u001b[39mreplace(\u001b[38;5;124m'\u001b[39m\u001b[38;5;124m.txt\u001b[39m\u001b[38;5;124m'\u001b[39m, \u001b[38;5;124m'\u001b[39m\u001b[38;5;124m'\u001b[39m) \u001b[38;5;28;01mfor\u001b[39;00m file \u001b[38;5;129;01min\u001b[39;00m \u001b[43mos\u001b[49m\u001b[38;5;241;43m.\u001b[39;49m\u001b[43mlistdir\u001b[49m\u001b[43m(\u001b[49m\u001b[43moutput_dir\u001b[49m\u001b[43m)\u001b[49m \u001b[38;5;28;01mif\u001b[39;00m file\u001b[38;5;241m.\u001b[39mendswith(\u001b[38;5;124m'\u001b[39m\u001b[38;5;124m.txt\u001b[39m\u001b[38;5;124m'\u001b[39m)]\n\u001b[0;32m      3\u001b[0m raw_performers \u001b[38;5;241m=\u001b[39m [performer\u001b[38;5;241m.\u001b[39mreplace(\u001b[38;5;124m'\u001b[39m\u001b[38;5;124m \u001b[39m\u001b[38;5;124m'\u001b[39m, \u001b[38;5;124m'\u001b[39m\u001b[38;5;124m_\u001b[39m\u001b[38;5;124m'\u001b[39m) \u001b[38;5;28;01mfor\u001b[39;00m performer \u001b[38;5;129;01min\u001b[39;00m raw_performers]  \n\u001b[0;32m      7\u001b[0m \u001b[38;5;66;03m# we filter manually the whatever is not a artist names \u001b[39;00m\n",
      "\u001b[1;31mFileNotFoundError\u001b[0m: [WinError 3] El sistema no puede encontrar la ruta especificada: './country_performers'"
     ]
    }
   ],
   "source": [
    "output_dir='./country_performers'\n",
    "raw_performers = [file.replace('_', ' ').replace('.txt', '') for file in os.listdir(output_dir) if file.endswith('.txt')]\n",
    "raw_performers = [performer.replace(' ', '_') for performer in raw_performers]  \n",
    "\n",
    "\n",
    "\n",
    "# we filter manually the whatever is not a artist names \n",
    "keywords_to_exclude = [\"List\", \"Country_music\", \"Country_Music_Hall_of_Fame\", \"List_of_country_music_performers\", \n",
    "\"List_of_country_performers\", \"List_of_country_music_performers_by_genre\",]\n",
    "performers = [performer for performer in raw_performers if not any(keyword in performer for keyword in keywords_to_exclude)]\n"
   ]
  },
  {
   "cell_type": "code",
   "execution_count": null,
   "metadata": {},
   "outputs": [],
   "source": [
    "# Count the number of .txt files in the 'country_performers' directory\n",
    "txt_files = [file for file in os.listdir('country_performers') if file.endswith('.txt')]\n",
    "num_txt_files = len(txt_files)\n",
    "\n",
    "print(f\"Number of .txt files in the 'country_performers' directory: {num_txt_files}\")"
   ]
  },
  {
   "cell_type": "code",
   "execution_count": null,
   "metadata": {},
   "outputs": [],
   "source": [
    "print(\"Len performers\", len(performers))"
   ]
  },
  {
   "cell_type": "code",
   "execution_count": null,
   "metadata": {},
   "outputs": [],
   "source": [
    "def count_words(content):\n",
    "    words = re.findall(r'\\b\\w+\\b', content)\n",
    "    return len(words)\n",
    "\n",
    "def extract_links(page_content, performers):\n",
    "    # Regular expression to find links within double square brackets [[...]]\n",
    "    links = re.findall(r'\\[\\[([^\\]|]+)', page_content)\n",
    "    # Filter links to keep only those in the performers list\n",
    "    filtered_links = [link.replace(' ', '_') for link in links if link.replace(' ', '_') in performers]\n",
    "    return filtered_links"
   ]
  },
  {
   "cell_type": "code",
   "execution_count": null,
   "metadata": {},
   "outputs": [],
   "source": [
    "output_dir = \"./country_performers\"\n",
    "\n",
    "G = nx.DiGraph()\n",
    "\n",
    "for performer in performers:\n",
    "    file_path = os.path.join(output_dir, f\"{performer.replace('_', ' ')}.txt\")\n",
    "    \n",
    "    with open(file_path, 'r', encoding='utf-8') as f:\n",
    "        page_content = f.read()\n",
    "        \n",
    "    # Extract links from the page content\n",
    "    links = extract_links(page_content, performers)\n",
    "    \n",
    "    # Add node with word count as an attribute\n",
    "    word_count = len(re.findall(r'\\b\\w+\\b', page_content))\n",
    "    content_length = len(page_content)\n",
    "    G.add_node(performer, word_count=word_count, content_length=content_length)\n",
    "    \n",
    "    # Add edges to the graph, only if the link is in the performers list\n",
    "    for link in links:\n",
    "        if link not in G.nodes():\n",
    "            G.add_node(link)\n",
    "        G.add_edge(performer, link)\n",
    "\n",
    "# Remove isolated nodes\n",
    "isolated_nodes = [node for node in G.nodes() if G.out_degree(node) == 0 and G.in_degree(node) == 0]\n",
    "G.remove_nodes_from(isolated_nodes)"
   ]
  },
  {
   "cell_type": "markdown",
   "metadata": {},
   "source": [
    "> * What is the number of nodes in the network? "
   ]
  },
  {
   "cell_type": "code",
   "execution_count": null,
   "metadata": {},
   "outputs": [],
   "source": [
    "total_nodes = G.number_of_nodes()\n",
    "print(f\"Total number of nodes in the network: {total_nodes}\")"
   ]
  },
  {
   "cell_type": "markdown",
   "metadata": {},
   "source": [
    "> * More importantly, what is the number of links? (Chat with a fellow student or a TA to make sure you're in the right ball-park)\n"
   ]
  },
  {
   "cell_type": "code",
   "execution_count": null,
   "metadata": {},
   "outputs": [],
   "source": [
    "total_edges = G.number_of_edges()\n",
    "print(f\"Total number of edges (links) in the network: {total_edges}\")"
   ]
  },
  {
   "cell_type": "markdown",
   "metadata": {},
   "source": [
    "> * Plot the in and out-degree distributions for the entire network. What do you observe? Can you explain why the in-degree distribution is different from the out-degree distribution?"
   ]
  },
  {
   "cell_type": "code",
   "execution_count": null,
   "metadata": {},
   "outputs": [],
   "source": [
    "in_degrees = [G.in_degree(n) for n in G.nodes()]\n",
    "out_degrees = [G.out_degree(n) for n in G.nodes()]\n",
    "\n",
    "#in-degree distribution\n",
    "plt.figure(figsize=(12, 6))\n",
    "\n",
    "plt.subplot(1, 2, 1)\n",
    "plt.hist(in_degrees, bins=30, color='blue', alpha=0.7)\n",
    "plt.title('In-Degree Distribution')\n",
    "plt.xlabel('In-Degree')\n",
    "plt.ylabel('Frequency')\n",
    "\n",
    "#out-degree distribution\n",
    "plt.subplot(1, 2, 2)\n",
    "plt.hist(out_degrees, bins=30, color='green', alpha=0.7)\n",
    "plt.title('Out-Degree Distribution')\n",
    "plt.xlabel('Out-Degree')\n",
    "plt.ylabel('Frequency')\n",
    "\n",
    "plt.tight_layout()\n",
    "plt.show()"
   ]
  },
  {
   "cell_type": "code",
   "execution_count": null,
   "metadata": {},
   "outputs": [],
   "source": [
    "plt.figure(figsize=(12, 12))\n",
    "pos = nx.spring_layout(G)  \n",
    "nx.draw_networkx_nodes(G, pos, node_size=50, node_color='blue', alpha=0.7)\n",
    "nx.draw_networkx_edges(G, pos, alpha=0.5)\n",
    "plt.title(\"Country Music Network\")\n",
    "plt.show()"
   ]
  },
  {
   "cell_type": "markdown",
   "metadata": {},
   "source": [
    "> As it can be seen above, the in-degree and out-degree distributions are different, we can see few artitsts with an out-degree of 500 but no artists with e.g. and in-degree above 200. This could be for several reasons like for exmaple the popularity of the artists: there could be a famous country artist that is more popular or influential, leading to a higher in-degree. Also, the amount of collaborations between artists influence the out-degree grade; if the collaborate with many others or reference many other artists, higher out-degree. \n",
    "\n",
    "> Artists that plays a sub-genres might reference each other more frequently, leading to higher in-degrees within those sub-genres. Some artists might do multiple sub-genres, leading to a higher out-degree because they collaborate with artists from different sub-genres.\n",
    "\n",
    "> Also, we can see that the frequency of out-degree for the interval between 0-200 has a value approf of more than 2000, which is interesting as it shows us that most of the artist in the country music industry are related.\n",
    "\n",
    "\n",
    "> **añadir mas cositas q no se me ocurren mas coemtnar que hay algunos noods solos?¿??????**"
   ]
  },
  {
   "cell_type": "markdown",
   "metadata": {},
   "source": [
    ">     Compare the out-degree distribution to a *random network* with the same number of nodes and links.\n",
    "\n",
    "Both (out degree) distributions are skewed toward lower values, our network has a more pronounced tail with a few nodes having higher out-degrees. This suggests that our network is not random, as it displays more variability in node connectivity, indicating an organized structure where certain nodes have significantly more outgoing connections. This shows that in our network there is 'hierarchy' in the sense of influence. \n",
    "\n",
    "\n",
    ">     Compare the in-degree distribution to a *scale-free* network with the same number of nodes.\n",
    "Our network shares some characteristics of a scale-free structure, with most nodes having few incoming connections and a few nodes acting as hubs with a large number of connections. \n",
    "\n",
    "\n",
    "\n",
    "Overall, our network displays features of both random and scale-free networks, implying it has a structured, non-random organization with certain nodes playing key roles in connectivity. "
   ]
  },
  {
   "cell_type": "code",
   "execution_count": null,
   "metadata": {},
   "outputs": [],
   "source": [
    "num_nodes = G.number_of_nodes()\n",
    "num_edges = G.number_of_edges()\n",
    "\n",
    "random_graph = nx.gnp_random_graph(num_nodes, num_edges / (num_nodes * (num_nodes - 1)), directed=True)\n",
    "random_out_degrees = [random_graph.out_degree(n) for n in random_graph.nodes()]\n",
    "\n",
    "scale_free_graph = nx.barabasi_albert_graph(num_nodes, 2)\n",
    "scale_free_graph = nx.DiGraph(scale_free_graph) \n",
    "scale_free_out_degrees = [scale_free_graph.out_degree(n) for n in scale_free_graph.nodes()]\n",
    "\n",
    "plt.figure(figsize=(12, 6))\n",
    "\n",
    "plt.subplot(1, 2, 1)\n",
    "plt.hist(out_degrees, bins=30, color='blue', alpha=0.5, label='Original Network')\n",
    "plt.hist(random_out_degrees, bins=30, color='black', alpha=0.5, label='Random Network')\n",
    "plt.title('Out-Degree Comparison')\n",
    "plt.xlabel('Out-Degree')\n",
    "plt.ylabel('Frequency')\n",
    "plt.legend()\n",
    "\n",
    "plt.subplot(1, 2, 2)\n",
    "plt.hist(in_degrees, bins=30, color='red', alpha=0.5, label='Original Network')\n",
    "plt.hist(np.random.poisson(lam=np.mean(in_degrees), size=len(in_degrees)), bins=30, color='black', alpha=0.5, label='Scale-Free Network')\n",
    "plt.title('In-Degree Comparison')\n",
    "plt.xlabel('In-Degree')\n",
    "plt.ylabel('Frequency')\n",
    "plt.legend()\n",
    "\n",
    "plt.tight_layout()\n",
    "plt.show()\n"
   ]
  },
  {
   "cell_type": "code",
   "execution_count": null,
   "metadata": {},
   "outputs": [],
   "source": [
    "# Top 5 performers by in-degree\n",
    "top_in_degrees = sorted(G.in_degree(), key=lambda x: x[1], reverse=True)[:5]\n",
    "print(\"Top 5 performers by in-degree:\")\n",
    "for performer, degree in top_in_degrees:\n",
    "    print(f\"{performer}: {degree}\")\n",
    "\n",
    "# Top 5 performers by out-degree\n",
    "top_out_degrees = sorted(G.out_degree(), key=lambda x: x[1], reverse=True)[:5]\n",
    "print(\"\\nTop 5 performers by out-degree:\")\n",
    "for performer, degree in top_out_degrees:\n",
    "    print(f\"{performer}: {degree}\")\n"
   ]
  },
  {
   "cell_type": "markdown",
   "metadata": {},
   "source": [
    "As it can be seen, most of the in/out degrees artist are people that is/has been influencial in the industry thus, showing that the netwrok represents the reality. As it can be seen in the next photo, doing a quick search in google, we can see that some of the artists (Willie Nelso, Vince Gill, Jhonny Cash...) that are influential appear in our networks as 'leaders' in terms of in/out degrees distributions therefore, the results were expected."
   ]
  },
  {
   "cell_type": "code",
   "execution_count": null,
   "metadata": {},
   "outputs": [],
   "source": [
    "\n",
    "image_path = r'C:\\Users\\famu\\Documents\\GitHub\\socialgraphs2024\\images\\countryArtists.PNG'\n",
    "display(Image(filename=image_path))"
   ]
  },
  {
   "cell_type": "code",
   "execution_count": null,
   "metadata": {},
   "outputs": [],
   "source": [
    "top_10_in_degrees = sorted(G.in_degree(), key=lambda x: x[1], reverse=True)[:10]\n",
    "top_10_in_names, top_10_in_values = zip(*top_10_in_degrees)\n",
    "\n",
    "top_10_out_degrees = sorted(G.out_degree(), key=lambda x: x[1], reverse=True)[:10]\n",
    "top_10_out_names, top_10_out_values = zip(*top_10_out_degrees)\n",
    "\n",
    "plt.figure(figsize=(14, 7))\n",
    "\n",
    "plt.subplot(1, 2, 1)\n",
    "plt.barh(top_10_in_names, top_10_in_values, color='blue')\n",
    "plt.xlabel('In-Degree')\n",
    "plt.title('Top 10 Artists by In-Degree')\n",
    "plt.gca().invert_yaxis()\n",
    "\n",
    "plt.subplot(1, 2, 2)\n",
    "plt.barh(top_10_out_names, top_10_out_values, color='green')\n",
    "plt.xlabel('Out-Degree')\n",
    "plt.title('Top 10 Artists by Out-Degree')\n",
    "plt.gca().invert_yaxis()\n",
    "\n",
    "plt.tight_layout()\n",
    "plt.show()"
   ]
  },
  {
   "cell_type": "markdown",
   "metadata": {},
   "source": [
    "Below, we calculate different mesaures of the network like degree centrality, betweenness centraility etc...This measures will help us in see if the in/out degrees calculated before makes sense or correspond with what the measures said.\n",
    "\n",
    "\n",
    "Regarding degree centrality: yes, it corresponds, Willie Nelson is the one who has more edges conected to itself. He also is the top 1 regarding closeness centrality, whiche measures the average length of the shortest path from a node to all other nodes in the network. Jhonny Cash seems to be as well very influencial in the network, let's do some research; with a quick search in wikipedia we can see that: *Cash is one of the best-selling music artists of all time, having sold more than 90 million records worldwide. Considered one of the most influential musicians of the 20th century. Considered “the King of Country Music” and an icon of that genre.*  So, apparently, our network refelcts reality."
   ]
  },
  {
   "cell_type": "code",
   "execution_count": null,
   "metadata": {
    "vscode": {
     "languageId": "ruby"
    }
   },
   "outputs": [],
   "source": [
    "degree_centrality = nx.degree_centrality(G)\n",
    "\n",
    "betweenness_centrality = nx.betweenness_centrality(G)\n",
    "\n",
    "closeness_centrality = nx.closeness_centrality(G)\n",
    "\n",
    "eigenvector_centrality = nx.eigenvector_centrality(G)\n",
    "\n",
    "\n",
    "centrality_df = pd.DataFrame({\n",
    "    'Degree Centrality': degree_centrality,\n",
    "    'Betweenness Centrality': betweenness_centrality,\n",
    "    'Closeness Centrality': closeness_centrality,\n",
    "    'Eigenvector Centrality': eigenvector_centrality\n",
    "})\n",
    "\n",
    "top_degree_centrality = centrality_df['Degree Centrality'].nlargest(10)\n",
    "top_betweenness_centrality = centrality_df['Betweenness Centrality'].nlargest(10)\n",
    "top_closeness_centrality = centrality_df['Closeness Centrality'].nlargest(10)\n",
    "top_eigenvector_centrality = centrality_df['Eigenvector Centrality'].nlargest(10)\n",
    "\n",
    "print(\"Top 10 artists by Degree Centrality:\")\n",
    "print(top_degree_centrality)\n",
    "\n",
    "print(\"\\nTop 10 artists by Betweenness Centrality:\")\n",
    "print(top_betweenness_centrality)\n",
    "\n",
    "print(\"\\nTop 10 artists by Closeness Centrality:\")\n",
    "print(top_closeness_centrality)\n",
    "\n",
    "print(\"\\nTop 10 artists by Eigenvector Centrality:\")\n",
    "print(top_eigenvector_centrality)"
   ]
  },
  {
   "cell_type": "markdown",
   "metadata": {},
   "source": [
    "> * What are the 10 pages with the longest wiki entries? (use the `length of content` attribute to figure this one out)?\n"
   ]
  },
  {
   "cell_type": "code",
   "execution_count": null,
   "metadata": {
    "vscode": {
     "languageId": "ruby"
    }
   },
   "outputs": [],
   "source": [
    "content_lengths = nx.get_node_attributes(G, 'content_length')\n",
    "\n",
    "sorted_performers = sorted(content_lengths.items(), key=lambda x: x[1], reverse=True)\n",
    "\n",
    "top_10_longest_entries = sorted_performers[:10]\n",
    "\n",
    "print(\"Top 10 performers with the longest wiki entries:\")\n",
    "for performer, length in top_10_longest_entries:\n",
    "    print(f\"{performer}: {length} characters\")"
   ]
  },
  {
   "cell_type": "markdown",
   "metadata": {},
   "source": [
    "This is actually super interesting as it can be seen that pop icons like Taylor Swift, Miley Cyrus, and Justin Bieber, whose detailed biographies highlight their massive influence, media presence, and diverse careers across music, film, and social causes.  Legends like Elvis Presley and Bob Dylan showcase the lasting impact of music icons from past generations, whose influence on modern music continues to be widely recognized and discussed. "
   ]
  },
  {
   "cell_type": "markdown",
   "metadata": {},
   "source": [
    "# References\n",
    "\n",
    "[1]  Feld, Scott L. (1991), \"Why your friends have more friends than you do\", American Journal of Sociology, 96 (6): 1464–1477, doi:10.1086/229693, JSTOR 2781907, S2CID 56043992.\n",
    "\n",
    "[2] Cantwell, G. T., Kirkley, A., & Newman, M. E. (2021). The friendship paradox in real and model networks. Journal of Complex Networks, 9(2), cnab011."
   ]
  }
 ],
 "metadata": {
  "anaconda-cloud": {},
  "kernelspec": {
   "display_name": "Python 3 (ipykernel)",
   "language": "python",
   "name": "python3"
  },
  "language_info": {
   "codemirror_mode": {
    "name": "ipython",
    "version": 3
   },
   "file_extension": ".py",
   "mimetype": "text/x-python",
   "name": "python",
   "nbconvert_exporter": "python",
   "pygments_lexer": "ipython3",
   "version": "3.11.4"
  }
 },
 "nbformat": 4,
 "nbformat_minor": 4
}
