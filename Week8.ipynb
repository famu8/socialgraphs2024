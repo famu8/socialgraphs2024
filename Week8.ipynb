{
 "cells": [
  {
   "cell_type": "markdown",
   "metadata": {},
   "source": [
    "# Intro\n",
    "\n",
    "It's the last time we meet in class for exercises! And to celebrate this mile-stone, I've put together an very nice little set of exercises. And if you're behind, don't worry. The workload is low!\n",
    "\n",
    "  - Part A: First, we play around with sentiment analysis\n",
    "  - That's it!\n"
   ]
  },
  {
   "cell_type": "markdown",
   "metadata": {},
   "source": [
    "# Part A: Sentiment analysis"
   ]
  },
  {
   "cell_type": "markdown",
   "metadata": {},
   "source": [
    "Sentiment analysis is another highly useful technique which we'll use to make sense of the Wiki\n",
    "data. Further, experience shows that it might well be very useful when you get to the project stage of the class."
   ]
  },
  {
   "cell_type": "markdown",
   "metadata": {},
   "source": [
    "\n",
    "\n",
    "> **Video Lecture**: Uncle Sune talks about sentiment and his own youthful adventures.\n",
    "\n"
   ]
  },
  {
   "cell_type": "code",
   "execution_count": 1,
   "metadata": {
    "scrolled": true
   },
   "outputs": [
    {
     "data": {
      "image/jpeg": "[encoded data removed]",
      "text/html": [
       "\n",
       "        <iframe\n",
       "            width=\"800\"\n",
       "            height=\"450\"\n",
       "            src=\"https://www.youtube.com/embed/JuYcaYYlfrI\"\n",
       "            frameborder=\"0\"\n",
       "            allowfullscreen\n",
       "            \n",
       "        ></iframe>\n",
       "        "
      ],
      "text/plain": [
       "<IPython.lib.display.YouTubeVideo at 0x105560280>"
      ]
     },
     "execution_count": 1,
     "metadata": {},
     "output_type": "execute_result"
    }
   ],
   "source": [
    "from IPython.display import YouTubeVideo\n",
    "YouTubeVideo(\"JuYcaYYlfrI\",width=800, height=450)"
   ]
  },
  {
   "cell_type": "code",
   "execution_count": 2,
   "metadata": {},
   "outputs": [
    {
     "data": {
      "image/jpeg": "[encoded data removed]",
      "text/html": [
       "\n",
       "        <iframe\n",
       "            width=\"800\"\n",
       "            height=\"450\"\n",
       "            src=\"https://www.youtube.com/embed/hY0UCD5UiiY\"\n",
       "            frameborder=\"0\"\n",
       "            allowfullscreen\n",
       "            \n",
       "        ></iframe>\n",
       "        "
      ],
      "text/plain": [
       "<IPython.lib.display.YouTubeVideo at 0x1055b59d0>"
      ]
     },
     "execution_count": 2,
     "metadata": {},
     "output_type": "execute_result"
    }
   ],
   "source": [
    "# There's also this one from 2010\n",
    "YouTubeVideo(\"hY0UCD5UiiY\",width=800, height=450)"
   ]
  },
  {
   "cell_type": "markdown",
   "metadata": {},
   "source": [
    "> Reading: [Temporal Patterns of Happiness and Information in a Global Social Network: Hedonometrics and Twitter](http://journals.plos.org/plosone/article?id=10.1371/journal.pone.0026752) \n"
   ]
  },
  {
   "cell_type": "markdown",
   "metadata": {},
   "source": [
    "*Exercise*: Sentiment distribution. \n",
    "> \n",
    "> * Download the LabMT wordlist. It's available as supplementary material from [Temporal Patterns of Happiness and Information in a Global Social Network: Hedonometrics and Twitter](http://journals.plos.org/plosone/article?id=10.1371/journal.pone.0026752) (Data Set S1). Describe briefly how the list was generated.\n",
    "> * Based on the LabMT word list, write a function that calculates sentiment given a list of tokens (the tokens should be lower case, etc).\n",
    "> * Iterage over the nodes in your network, tokenize each page, and calculate sentiment every single page. Now you have sentiment as a new nodal property.\n",
    "> * Calculate the average sentiment across all the pages. Also calculate the median, variance, 25th percentile, 75th percentile.\n",
    "> * Remember histograms? Create a histogram of all of the artists's associated page-sentiments. (And make it a nice histogram - use your histogram making skills from Week 2). Add the mean, meadian, ect from above to your plot.\n",
    "> * Who are the 10 artists with happiest and saddest pages?\n",
    "\n",
    "<div class=\"alert alert-block alert-info\">\n",
    "As long as you get the plots right, it's OK to use LLM help here.\n",
    "</div>\n",
    "\n",
    "*Exercise*: Community sentiment distribution. \n",
    "  \n",
    "> * Last week we calculated the stuctural communities of the graph. For this exercise, we use those communities (just the 10 largest ones). Specifically, you should calculate the average the average sentiment of the nodes in each community to find a *community level sentiment*. \n",
    ">   - Name each community by its three most connected characters. \n",
    ">   - What are the three happiest communities? \n",
    ">   - what are the three saddest communities?\n",
    ">   - Do these results confirm what you can learn about each community by comparing to the genres, checking out the word-clouds for each community, and reading the wiki-pages? \n",
    "> * Compare the sentiment of the happiest and saddest communities to the overall (entire network) distribution of sentiment that you calculated in the previous exercise. Are the communities very differenct from the average? Or do you find the sentiment to be quite similar across all of the communities?\n",
    "\n",
    "<div class=\"alert alert-block alert-info\">\n",
    "As above, feel free to go nuts with help from an LLM with this exercise for the technical parts. But try to answer the questions about interpreting the results with your own human brain.\n",
    "</div>\n",
    "\n",
    "**Note**: Calculating sentiment takes a long time, so arm yourself with patience as your code runs (remember to check that it runs correctly, before waiting patiently). Further, these tips may speed things up. And save somewhere, so you don't have to start over.\n",
    "\n",
    "**Tips for speed**\n",
    "* If you use `freqDist` prior to finding the sentiment, you only have to find it for every unique word and hereafter you can do a weighted mean.\n",
    "* More tips for speeding up loops https://wiki.python.org/moin/PythonSpeed/PerformanceTips#Loops"
   ]
  },
  {
   "cell_type": "code",
   "execution_count": 2,
   "metadata": {},
   "outputs": [
    {
     "name": "stderr",
     "output_type": "stream",
     "text": [
      "C:\\Users\\jdiaz\\AppData\\Local\\Temp\\ipykernel_13520\\2604751072.py:4: FutureWarning: The 'delim_whitespace' keyword in pd.read_csv is deprecated and will be removed in a future version. Use ``sep='\\s+'`` instead\n",
      "  labmt_df = pd.read_csv(r\"Data_Set_S1.txt\", delim_whitespace=True, header=None, names=[\"word\", \"happiness_rank\", \"happiness_average\", \"happines_standard_deviation\",\"twitter_rank\",\"google_rank\",\"nyt_rank\",\"lyrics_rank\"],skiprows=4)\n"
     ]
    },
    {
     "data": {
      "text/html": [
       "<div>\n",
       "<style scoped>\n",
       "    .dataframe tbody tr th:only-of-type {\n",
       "        vertical-align: middle;\n",
       "    }\n",
       "\n",
       "    .dataframe tbody tr th {\n",
       "        vertical-align: top;\n",
       "    }\n",
       "\n",
       "    .dataframe thead th {\n",
       "        text-align: right;\n",
       "    }\n",
       "</style>\n",
       "<table border=\"1\" class=\"dataframe\">\n",
       "  <thead>\n",
       "    <tr style=\"text-align: right;\">\n",
       "      <th></th>\n",
       "      <th>word</th>\n",
       "      <th>happiness_rank</th>\n",
       "      <th>happiness_average</th>\n",
       "      <th>happines_standard_deviation</th>\n",
       "      <th>twitter_rank</th>\n",
       "      <th>google_rank</th>\n",
       "      <th>nyt_rank</th>\n",
       "      <th>lyrics_rank</th>\n",
       "    </tr>\n",
       "  </thead>\n",
       "  <tbody>\n",
       "    <tr>\n",
       "      <th>0</th>\n",
       "      <td>laughter</td>\n",
       "      <td>1</td>\n",
       "      <td>8.50</td>\n",
       "      <td>0.9313</td>\n",
       "      <td>3600</td>\n",
       "      <td>--</td>\n",
       "      <td>--</td>\n",
       "      <td>1728</td>\n",
       "    </tr>\n",
       "    <tr>\n",
       "      <th>1</th>\n",
       "      <td>happiness</td>\n",
       "      <td>2</td>\n",
       "      <td>8.44</td>\n",
       "      <td>0.9723</td>\n",
       "      <td>1853</td>\n",
       "      <td>2458</td>\n",
       "      <td>--</td>\n",
       "      <td>1230</td>\n",
       "    </tr>\n",
       "    <tr>\n",
       "      <th>2</th>\n",
       "      <td>love</td>\n",
       "      <td>3</td>\n",
       "      <td>8.42</td>\n",
       "      <td>1.1082</td>\n",
       "      <td>25</td>\n",
       "      <td>317</td>\n",
       "      <td>328</td>\n",
       "      <td>23</td>\n",
       "    </tr>\n",
       "    <tr>\n",
       "      <th>3</th>\n",
       "      <td>happy</td>\n",
       "      <td>4</td>\n",
       "      <td>8.30</td>\n",
       "      <td>0.9949</td>\n",
       "      <td>65</td>\n",
       "      <td>1372</td>\n",
       "      <td>1313</td>\n",
       "      <td>375</td>\n",
       "    </tr>\n",
       "    <tr>\n",
       "      <th>4</th>\n",
       "      <td>laughed</td>\n",
       "      <td>5</td>\n",
       "      <td>8.26</td>\n",
       "      <td>1.1572</td>\n",
       "      <td>3334</td>\n",
       "      <td>3542</td>\n",
       "      <td>--</td>\n",
       "      <td>2332</td>\n",
       "    </tr>\n",
       "  </tbody>\n",
       "</table>\n",
       "</div>"
      ],
      "text/plain": [
       "        word  happiness_rank  happiness_average  happines_standard_deviation  \\\n",
       "0   laughter               1               8.50                       0.9313   \n",
       "1  happiness               2               8.44                       0.9723   \n",
       "2       love               3               8.42                       1.1082   \n",
       "3      happy               4               8.30                       0.9949   \n",
       "4    laughed               5               8.26                       1.1572   \n",
       "\n",
       "  twitter_rank google_rank nyt_rank lyrics_rank  \n",
       "0         3600          --       --        1728  \n",
       "1         1853        2458       --        1230  \n",
       "2           25         317      328          23  \n",
       "3           65        1372     1313         375  \n",
       "4         3334        3542       --        2332  "
      ]
     },
     "execution_count": 2,
     "metadata": {},
     "output_type": "execute_result"
    }
   ],
   "source": [
    "import pandas as pd\n",
    "\n",
    "# Adjust the file path and delimiter if needed\n",
    "labmt_df = pd.read_csv(r\"Data_Set_S1.txt\", delim_whitespace=True, header=None, names=[\"word\", \"happiness_rank\", \"happiness_average\", \"happines_standard_deviation\",\"twitter_rank\",\"google_rank\",\"nyt_rank\",\"lyrics_rank\"],skiprows=4)\n",
    "labmt_df.head()"
   ]
  },
  {
   "cell_type": "code",
   "execution_count": 3,
   "metadata": {},
   "outputs": [
    {
     "name": "stdout",
     "output_type": "stream",
     "text": [
      "8.5\n",
      "8.44\n"
     ]
    }
   ],
   "source": [
    "# Create a dictionary with words as keys and happiness scores as values\n",
    "labmt_dict = pd.Series(labmt_df.happiness_average.values, index=labmt_df.word).to_dict()\n",
    "\n",
    "# Verify a few entries\n",
    "print(labmt_dict.get(\"laughter\"))  # Should return the happiness score for \"laughter\"\n",
    "print(labmt_dict.get(\"happiness\"))  # Should return the happiness score for \"happiness\""
   ]
  },
  {
   "cell_type": "markdown",
   "metadata": {},
   "source": [
    "Exercise: Sentiment distribution."
   ]
  },
  {
   "cell_type": "code",
   "execution_count": 4,
   "metadata": {},
   "outputs": [
    {
     "data": {
      "text/plain": [
       "4.948888888888888"
      ]
     },
     "execution_count": 4,
     "metadata": {},
     "output_type": "execute_result"
    }
   ],
   "source": [
    "def calculate_sentiment(tokens, labmt_dict):\n",
    "    sentiments = [labmt_dict.get(word, None) for word in tokens if word in labmt_dict]\n",
    "    sentiments = [s for s in sentiments if s is not None]  # Filter out None values\n",
    "    if not sentiments:\n",
    "        return None  # Return None if there are no recognized words\n",
    "    return sum(sentiments) / len(sentiments)\n",
    "\n",
    "calculate_sentiment(\"gammes joy\", labmt_dict)"
   ]
  },
  {
   "cell_type": "code",
   "execution_count": 5,
   "metadata": {},
   "outputs": [
    {
     "ename": "KeyboardInterrupt",
     "evalue": "",
     "output_type": "error",
     "traceback": [
      "\u001b[1;31m---------------------------------------------------------------------------\u001b[0m",
      "\u001b[1;31mKeyboardInterrupt\u001b[0m                         Traceback (most recent call last)",
      "Cell \u001b[1;32mIn[5], line 7\u001b[0m\n\u001b[0;32m      5\u001b[0m \u001b[38;5;28;01mfrom\u001b[39;00m \u001b[38;5;21;01mbs4\u001b[39;00m \u001b[38;5;28;01mimport\u001b[39;00m BeautifulSoup\n\u001b[0;32m      6\u001b[0m \u001b[38;5;28;01mfrom\u001b[39;00m \u001b[38;5;21;01murllib\u001b[39;00m\u001b[38;5;21;01m.\u001b[39;00m\u001b[38;5;21;01mrequest\u001b[39;00m \u001b[38;5;28;01mimport\u001b[39;00m urlopen\n\u001b[1;32m----> 7\u001b[0m \u001b[38;5;28;01mimport\u001b[39;00m \u001b[38;5;21;01mnltk\u001b[39;00m\n\u001b[0;32m      8\u001b[0m \u001b[38;5;28;01mimport\u001b[39;00m \u001b[38;5;21;01mos\u001b[39;00m\n\u001b[0;32m     10\u001b[0m \u001b[38;5;66;03m# Ensure you have the NLTK data downloaded\u001b[39;00m\n",
      "File \u001b[1;32m~\\AppData\\Local\\Programs\\Python\\Python311\\Lib\\site-packages\\nltk\\__init__.py:135\u001b[0m\n\u001b[0;32m    133\u001b[0m \u001b[38;5;28;01mfrom\u001b[39;00m \u001b[38;5;21;01mnltk\u001b[39;00m\u001b[38;5;21;01m.\u001b[39;00m\u001b[38;5;21;01mcollocations\u001b[39;00m \u001b[38;5;28;01mimport\u001b[39;00m \u001b[38;5;241m*\u001b[39m\n\u001b[0;32m    134\u001b[0m \u001b[38;5;28;01mfrom\u001b[39;00m \u001b[38;5;21;01mnltk\u001b[39;00m\u001b[38;5;21;01m.\u001b[39;00m\u001b[38;5;21;01mdecorators\u001b[39;00m \u001b[38;5;28;01mimport\u001b[39;00m decorator, memoize\n\u001b[1;32m--> 135\u001b[0m \u001b[38;5;28;01mfrom\u001b[39;00m \u001b[38;5;21;01mnltk\u001b[39;00m\u001b[38;5;21;01m.\u001b[39;00m\u001b[38;5;21;01mfeatstruct\u001b[39;00m \u001b[38;5;28;01mimport\u001b[39;00m \u001b[38;5;241m*\u001b[39m\n\u001b[0;32m    136\u001b[0m \u001b[38;5;28;01mfrom\u001b[39;00m \u001b[38;5;21;01mnltk\u001b[39;00m\u001b[38;5;21;01m.\u001b[39;00m\u001b[38;5;21;01mgrammar\u001b[39;00m \u001b[38;5;28;01mimport\u001b[39;00m \u001b[38;5;241m*\u001b[39m\n\u001b[0;32m    137\u001b[0m \u001b[38;5;28;01mfrom\u001b[39;00m \u001b[38;5;21;01mnltk\u001b[39;00m\u001b[38;5;21;01m.\u001b[39;00m\u001b[38;5;21;01mprobability\u001b[39;00m \u001b[38;5;28;01mimport\u001b[39;00m \u001b[38;5;241m*\u001b[39m\n",
      "File \u001b[1;32m~\\AppData\\Local\\Programs\\Python\\Python311\\Lib\\site-packages\\nltk\\featstruct.py:97\u001b[0m\n\u001b[0;32m     94\u001b[0m \u001b[38;5;28;01mfrom\u001b[39;00m \u001b[38;5;21;01mfunctools\u001b[39;00m \u001b[38;5;28;01mimport\u001b[39;00m total_ordering\n\u001b[0;32m     96\u001b[0m \u001b[38;5;28;01mfrom\u001b[39;00m \u001b[38;5;21;01mnltk\u001b[39;00m\u001b[38;5;21;01m.\u001b[39;00m\u001b[38;5;21;01minternals\u001b[39;00m \u001b[38;5;28;01mimport\u001b[39;00m raise_unorderable_types, read_str\n\u001b[1;32m---> 97\u001b[0m \u001b[38;5;28;01mfrom\u001b[39;00m \u001b[38;5;21;01mnltk\u001b[39;00m\u001b[38;5;21;01m.\u001b[39;00m\u001b[38;5;21;01msem\u001b[39;00m\u001b[38;5;21;01m.\u001b[39;00m\u001b[38;5;21;01mlogic\u001b[39;00m \u001b[38;5;28;01mimport\u001b[39;00m (\n\u001b[0;32m     98\u001b[0m     Expression,\n\u001b[0;32m     99\u001b[0m     LogicalExpressionException,\n\u001b[0;32m    100\u001b[0m     LogicParser,\n\u001b[0;32m    101\u001b[0m     SubstituteBindingsI,\n\u001b[0;32m    102\u001b[0m     Variable,\n\u001b[0;32m    103\u001b[0m )\n\u001b[0;32m    105\u001b[0m \u001b[38;5;66;03m######################################################################\u001b[39;00m\n\u001b[0;32m    106\u001b[0m \u001b[38;5;66;03m# Feature Structure\u001b[39;00m\n\u001b[0;32m    107\u001b[0m \u001b[38;5;66;03m######################################################################\u001b[39;00m\n\u001b[0;32m    110\u001b[0m \u001b[38;5;129m@total_ordering\u001b[39m\n\u001b[0;32m    111\u001b[0m \u001b[38;5;28;01mclass\u001b[39;00m \u001b[38;5;21;01mFeatStruct\u001b[39;00m(SubstituteBindingsI):\n",
      "File \u001b[1;32m~\\AppData\\Local\\Programs\\Python\\Python311\\Lib\\site-packages\\nltk\\sem\\__init__.py:44\u001b[0m\n\u001b[0;32m      1\u001b[0m \u001b[38;5;66;03m# Natural Language Toolkit: Semantic Interpretation\u001b[39;00m\n\u001b[0;32m      2\u001b[0m \u001b[38;5;66;03m#\u001b[39;00m\n\u001b[0;32m      3\u001b[0m \u001b[38;5;66;03m# Copyright (C) 2001-2024 NLTK Project\u001b[39;00m\n\u001b[0;32m      4\u001b[0m \u001b[38;5;66;03m# Author: Ewan Klein <ewan@inf.ed.ac.uk>\u001b[39;00m\n\u001b[0;32m      5\u001b[0m \u001b[38;5;66;03m# URL: <https://www.nltk.org/>\u001b[39;00m\n\u001b[0;32m      6\u001b[0m \u001b[38;5;66;03m# For license information, see LICENSE.TXT\u001b[39;00m\n\u001b[0;32m      8\u001b[0m \u001b[38;5;124;03m\"\"\"\u001b[39;00m\n\u001b[0;32m      9\u001b[0m \u001b[38;5;124;03mNLTK Semantic Interpretation Package\u001b[39;00m\n\u001b[0;32m     10\u001b[0m \n\u001b[1;32m   (...)\u001b[0m\n\u001b[0;32m     41\u001b[0m \u001b[38;5;124;03m    >>> m = Model(dom, val)\u001b[39;00m\n\u001b[0;32m     42\u001b[0m \u001b[38;5;124;03m\"\"\"\u001b[39;00m\n\u001b[1;32m---> 44\u001b[0m \u001b[38;5;28;01mfrom\u001b[39;00m \u001b[38;5;21;01mnltk\u001b[39;00m\u001b[38;5;21;01m.\u001b[39;00m\u001b[38;5;21;01msem\u001b[39;00m\u001b[38;5;21;01m.\u001b[39;00m\u001b[38;5;21;01mboxer\u001b[39;00m \u001b[38;5;28;01mimport\u001b[39;00m Boxer\n\u001b[0;32m     45\u001b[0m \u001b[38;5;28;01mfrom\u001b[39;00m \u001b[38;5;21;01mnltk\u001b[39;00m\u001b[38;5;21;01m.\u001b[39;00m\u001b[38;5;21;01msem\u001b[39;00m\u001b[38;5;21;01m.\u001b[39;00m\u001b[38;5;21;01mdrt\u001b[39;00m \u001b[38;5;28;01mimport\u001b[39;00m DRS, DrtExpression\n\u001b[0;32m     46\u001b[0m \u001b[38;5;28;01mfrom\u001b[39;00m \u001b[38;5;21;01mnltk\u001b[39;00m\u001b[38;5;21;01m.\u001b[39;00m\u001b[38;5;21;01msem\u001b[39;00m\u001b[38;5;21;01m.\u001b[39;00m\u001b[38;5;21;01mevaluate\u001b[39;00m \u001b[38;5;28;01mimport\u001b[39;00m (\n\u001b[0;32m     47\u001b[0m     Assignment,\n\u001b[0;32m     48\u001b[0m     Model,\n\u001b[1;32m   (...)\u001b[0m\n\u001b[0;32m     54\u001b[0m     set2rel,\n\u001b[0;32m     55\u001b[0m )\n",
      "File \u001b[1;32m~\\AppData\\Local\\Programs\\Python\\Python311\\Lib\\site-packages\\nltk\\sem\\boxer.py:40\u001b[0m\n\u001b[0;32m     37\u001b[0m \u001b[38;5;28;01mfrom\u001b[39;00m \u001b[38;5;21;01moptparse\u001b[39;00m \u001b[38;5;28;01mimport\u001b[39;00m OptionParser\n\u001b[0;32m     39\u001b[0m \u001b[38;5;28;01mfrom\u001b[39;00m \u001b[38;5;21;01mnltk\u001b[39;00m\u001b[38;5;21;01m.\u001b[39;00m\u001b[38;5;21;01minternals\u001b[39;00m \u001b[38;5;28;01mimport\u001b[39;00m find_binary\n\u001b[1;32m---> 40\u001b[0m \u001b[38;5;28;01mfrom\u001b[39;00m \u001b[38;5;21;01mnltk\u001b[39;00m\u001b[38;5;21;01m.\u001b[39;00m\u001b[38;5;21;01msem\u001b[39;00m\u001b[38;5;21;01m.\u001b[39;00m\u001b[38;5;21;01mdrt\u001b[39;00m \u001b[38;5;28;01mimport\u001b[39;00m (\n\u001b[0;32m     41\u001b[0m     DRS,\n\u001b[0;32m     42\u001b[0m     DrtApplicationExpression,\n\u001b[0;32m     43\u001b[0m     DrtEqualityExpression,\n\u001b[0;32m     44\u001b[0m     DrtNegatedExpression,\n\u001b[0;32m     45\u001b[0m     DrtOrExpression,\n\u001b[0;32m     46\u001b[0m     DrtParser,\n\u001b[0;32m     47\u001b[0m     DrtProposition,\n\u001b[0;32m     48\u001b[0m     DrtTokens,\n\u001b[0;32m     49\u001b[0m     DrtVariableExpression,\n\u001b[0;32m     50\u001b[0m )\n\u001b[0;32m     51\u001b[0m \u001b[38;5;28;01mfrom\u001b[39;00m \u001b[38;5;21;01mnltk\u001b[39;00m\u001b[38;5;21;01m.\u001b[39;00m\u001b[38;5;21;01msem\u001b[39;00m\u001b[38;5;21;01m.\u001b[39;00m\u001b[38;5;21;01mlogic\u001b[39;00m \u001b[38;5;28;01mimport\u001b[39;00m (\n\u001b[0;32m     52\u001b[0m     ExpectedMoreTokensException,\n\u001b[0;32m     53\u001b[0m     LogicalExpressionException,\n\u001b[0;32m     54\u001b[0m     UnexpectedTokenException,\n\u001b[0;32m     55\u001b[0m     Variable,\n\u001b[0;32m     56\u001b[0m )\n\u001b[0;32m     59\u001b[0m \u001b[38;5;28;01mclass\u001b[39;00m \u001b[38;5;21;01mBoxer\u001b[39;00m:\n",
      "File \u001b[1;32m~\\AppData\\Local\\Programs\\Python\\Python311\\Lib\\site-packages\\nltk\\sem\\drt.py:44\u001b[0m\n\u001b[0;32m     42\u001b[0m \u001b[38;5;28;01mtry\u001b[39;00m:\n\u001b[0;32m     43\u001b[0m     \u001b[38;5;28;01mfrom\u001b[39;00m \u001b[38;5;21;01mtkinter\u001b[39;00m \u001b[38;5;28;01mimport\u001b[39;00m Canvas, Tk\n\u001b[1;32m---> 44\u001b[0m     \u001b[38;5;28;01mfrom\u001b[39;00m \u001b[38;5;21;01mtkinter\u001b[39;00m\u001b[38;5;21;01m.\u001b[39;00m\u001b[38;5;21;01mfont\u001b[39;00m \u001b[38;5;28;01mimport\u001b[39;00m Font\n\u001b[0;32m     46\u001b[0m     \u001b[38;5;28;01mfrom\u001b[39;00m \u001b[38;5;21;01mnltk\u001b[39;00m\u001b[38;5;21;01m.\u001b[39;00m\u001b[38;5;21;01mutil\u001b[39;00m \u001b[38;5;28;01mimport\u001b[39;00m in_idle\n\u001b[0;32m     48\u001b[0m \u001b[38;5;28;01mexcept\u001b[39;00m \u001b[38;5;167;01mImportError\u001b[39;00m:\n\u001b[0;32m     49\u001b[0m     \u001b[38;5;66;03m# No need to print a warning here, nltk.draw has already printed one.\u001b[39;00m\n",
      "File \u001b[1;32m<frozen importlib._bootstrap>:1176\u001b[0m, in \u001b[0;36m_find_and_load\u001b[1;34m(name, import_)\u001b[0m\n",
      "File \u001b[1;32m<frozen importlib._bootstrap>:1138\u001b[0m, in \u001b[0;36m_find_and_load_unlocked\u001b[1;34m(name, import_)\u001b[0m\n",
      "File \u001b[1;32m<frozen importlib._bootstrap>:1078\u001b[0m, in \u001b[0;36m_find_spec\u001b[1;34m(name, path, target)\u001b[0m\n",
      "File \u001b[1;32m<frozen importlib._bootstrap_external>:1504\u001b[0m, in \u001b[0;36mfind_spec\u001b[1;34m(cls, fullname, path, target)\u001b[0m\n",
      "File \u001b[1;32m<frozen importlib._bootstrap_external>:1476\u001b[0m, in \u001b[0;36m_get_spec\u001b[1;34m(cls, fullname, path, target)\u001b[0m\n",
      "File \u001b[1;32m<frozen importlib._bootstrap_external>:1612\u001b[0m, in \u001b[0;36mfind_spec\u001b[1;34m(self, fullname, target)\u001b[0m\n",
      "File \u001b[1;32m<frozen importlib._bootstrap_external>:147\u001b[0m, in \u001b[0;36m_path_stat\u001b[1;34m(path)\u001b[0m\n",
      "\u001b[1;31mKeyboardInterrupt\u001b[0m: "
     ]
    }
   ],
   "source": [
    "import re\n",
    "import string\n",
    "import ast\n",
    "from collections import Counter\n",
    "from bs4 import BeautifulSoup\n",
    "from urllib.request import urlopen\n",
    "import nltk\n",
    "import os\n",
    "\n",
    "# Ensure you have the NLTK data downloaded\n",
    "nltk.download('punkt')\n",
    "nltk.download('stopwords')\n",
    "nltk.download('wordnet')\n",
    "\n",
    "# Load artist-genre dictionary from a text file\n",
    "artist_genre_dict = {}\n",
    "with open(r'C:\\Users\\jdiaz\\Desktop\\DTU_SocialGraphs\\socialgraphs2024\\artists_genres_dictionary.txt', 'r', encoding='utf-8') as f:\n",
    "    content = f.read()\n",
    "    artist_genre_dict = ast.literal_eval(content)  # Safely evaluate the dictionary format\n",
    "\n",
    "# Initialize a dictionary to hold the Term Frequency (TF) data for each genre\n",
    "tf_lists = {genre: Counter() for genre in set(genre for genres in artist_genre_dict.values() for genre in genres)}\n",
    "\n",
    "# Function to fetch Wikipedia content\n",
    "wiki_path = \"https://en.wikipedia.org/wiki/\"\n",
    "\n",
    "# Define a directory to save artist token files\n",
    "token_dir = \"artist_tokens\"\n",
    "os.makedirs(token_dir, exist_ok=True)  # Create the directory if it doesn't exist\n",
    "\n",
    "# Process each artist\n",
    "for artist, genres in artist_genre_dict.items():\n",
    "    try:\n",
    "        # Clean the artist's name (remove parentheses and their contents)\n",
    "        artist_cleaned = re.sub(r'\\s*\\(.*?\\)', '', artist)  # Removes \"(musician)\" etc.\n",
    "\n",
    "        # Fetch the Wikipedia page\n",
    "        artist_url = wiki_path + artist_cleaned.replace(\" \", \"_\")\n",
    "        source = urlopen(artist_url).read()\n",
    "        soup = BeautifulSoup(source, \"html.parser\")\n",
    "\n",
    "        # Extract the plain text content from paragraphs\n",
    "        text = ''\n",
    "        for paragraph in soup.find_all('p'):\n",
    "            text += paragraph.text\n",
    "\n",
    "        # Clean the text: remove footnotes, newlines, and punctuation\n",
    "        text = re.sub(r'\\[.*?\\]+', '', text)\n",
    "        text = text.replace('\\n', '')\n",
    "        text = text.translate(str.maketrans('', '', string.punctuation)).lower()\n",
    "\n",
    "        # Tokenization\n",
    "        tokens = nltk.word_tokenize(text)\n",
    "\n",
    "        # Save tokens to a file for each artist\n",
    "        artist_filename = f\"{artist_cleaned.replace(' ', '_')}_tokens.txt\"\n",
    "        artist_filepath = os.path.join(token_dir, artist_filename)\n",
    "\n",
    "        with open(artist_filepath, 'w', encoding='utf-8') as file:\n",
    "            file.write(\" \".join(tokens))  # Save tokens as a space-separated string\n",
    "\n",
    "        # Update the Counter for each genre associated with the artist\n",
    "        for genre in genres:\n",
    "            tf_lists[genre].update(tokens)\n",
    "\n",
    "    except Exception as e:\n",
    "        print(f\"Error fetching data for {artist}: {e}\")"
   ]
  },
  {
   "cell_type": "code",
   "execution_count": 10,
   "metadata": {},
   "outputs": [],
   "source": [
    "import os\n",
    "token_dir = \"artist_tokens\"\n",
    "\n",
    "# Initialize variables to store sentiment values\n",
    "sentiments = []\n",
    "artist_sentiments = {}  # Store each artist's sentiment for easier reference later\n",
    "\n",
    "# Iterate over all files in the token directory\n",
    "for filename in os.listdir(token_dir):\n",
    "    artist_name = filename.replace('_tokens.txt', '').replace('_', ' ')  # Extract artist name from file name\n",
    "    artist_filepath = os.path.join(token_dir, filename)\n",
    "    \n",
    "    with open(artist_filepath, 'r', encoding='utf-8') as file:\n",
    "        tokens = file.read().split()  # Split by spaces to retrieve tokens\n",
    "        \n",
    "        # Calculate sentiment for this artist's tokens\n",
    "        sentiment = calculate_sentiment(tokens, labmt_dict)\n",
    "        if sentiment is not None:\n",
    "            sentiments.append(sentiment)\n",
    "            artist_sentiments[artist_name] = sentiment"
   ]
  },
  {
   "cell_type": "code",
   "execution_count": 12,
   "metadata": {},
   "outputs": [
    {
     "data": {
      "text/plain": [
       "1824"
      ]
     },
     "execution_count": 12,
     "metadata": {},
     "output_type": "execute_result"
    }
   ],
   "source": [
    "len(sentiments)"
   ]
  },
  {
   "cell_type": "code",
   "execution_count": 14,
   "metadata": {},
   "outputs": [
    {
     "name": "stdout",
     "output_type": "stream",
     "text": [
      "Sentiment Statistics:\n",
      "Mean: 5.565347773504527\n",
      "Median: 5.570014028056097\n",
      "Variance: 0.010956520030158378\n",
      "25th Percentile: 5.5101687996469515\n",
      "75th Percentile: 5.625597758517788\n"
     ]
    }
   ],
   "source": [
    "import numpy as np\n",
    "# Calculate summary statistics\n",
    "mean_sentiment = np.mean(sentiments)\n",
    "median_sentiment = np.median(sentiments)\n",
    "variance_sentiment = np.var(sentiments)\n",
    "percentile_25 = np.percentile(sentiments, 25)\n",
    "percentile_75 = np.percentile(sentiments, 75)\n",
    "\n",
    "# Print summary statistics\n",
    "print(\"Sentiment Statistics:\")\n",
    "print(f\"Mean: {mean_sentiment}\")\n",
    "print(f\"Median: {median_sentiment}\")\n",
    "print(f\"Variance: {variance_sentiment}\")\n",
    "print(f\"25th Percentile: {percentile_25}\")\n",
    "print(f\"75th Percentile: {percentile_75}\")"
   ]
  },
  {
   "cell_type": "code",
   "execution_count": 15,
   "metadata": {},
   "outputs": [
    {
     "name": "stdout",
     "output_type": "stream",
     "text": [
      "\n",
      "10 Saddest Artists:\n",
      "The Highwaymen: 4.960000000000001\n",
      "The Devil Makes Three: 4.991428571428571\n",
      "Billy Yates: 5.071428571428571\n",
      "Bill Chambers: 5.086666666666667\n",
      "Bill Phillips: 5.1000000000000005\n",
      "Ricochet: 5.100643821391466\n",
      "Al Anderson: 5.160000000000001\n",
      "Ron Wallace: 5.171428571428572\n",
      "Hal Willis: 5.21\n",
      "George Ducas: 5.235927272727277\n",
      "\n",
      "10 Happiest Artists:\n",
      "Troy Cassar-Daley: 5.837942283563363\n",
      "Doc Walker: 5.848235294117651\n",
      "Sean Hogan: 5.8967857142857145\n",
      "Don Amero: 5.905266903914588\n",
      "Jessie Farrell: 5.91573643410853\n",
      "Cassandra Vasik: 5.92825396825397\n",
      "McAlister Kemp: 5.948941176470587\n",
      "Great Speckled Bird: 5.989999999999999\n",
      "McKenna Faith: 6.041538461538462\n",
      "Home Free: 6.308\n"
     ]
    }
   ],
   "source": [
    "# Find the 10 happiest and saddest artists\n",
    "sorted_artists = sorted(artist_sentiments.items(), key=lambda item: item[1])\n",
    "saddest_artists = sorted_artists[:10]\n",
    "happiest_artists = sorted_artists[-10:]\n",
    "\n",
    "print(\"\\n10 Saddest Artists:\")\n",
    "for artist, sentiment in saddest_artists:\n",
    "    print(f\"{artist}: {sentiment}\")\n",
    "\n",
    "print(\"\\n10 Happiest Artists:\")\n",
    "for artist, sentiment in happiest_artists:\n",
    "    print(f\"{artist}: {sentiment}\")"
   ]
  },
  {
   "cell_type": "markdown",
   "metadata": {},
   "source": [
    "Exercise\n"
   ]
  },
  {
   "cell_type": "code",
   "execution_count": 18,
   "metadata": {},
   "outputs": [
    {
     "data": {
      "image/png": "[encoded data removed]",
      "text/plain": [
       "<Figure size 1000x700 with 2 Axes>"
      ]
     },
     "metadata": {},
     "output_type": "display_data"
    }
   ],
   "source": [
    "import networkx as nx\n",
    "import ast\n",
    "import matplotlib.pyplot as plt\n",
    "from collections import Counter\n",
    "import numpy as np\n",
    "from networkx.algorithms.community import louvain_communities\n",
    "from itertools import combinations\n",
    "\n",
    "\n",
    "# Step 1: Load the dictionary from a text file\n",
    "def load_genre_dictionary(file_path):\n",
    "    with open(file_path, 'r') as file:\n",
    "        genre_dict = ast.literal_eval(file.read())  # Safely evaluate the string representation of the dictionary\n",
    "    return genre_dict\n",
    "\n",
    "# Step 2: Create the edge list based on shared genres\n",
    "def create_edge_list(genre_dict):\n",
    "    edge_list = []\n",
    "    artists = list(genre_dict.keys())\n",
    "    \n",
    "    # Compare each pair of artists\n",
    "    for artist1, artist2 in combinations(artists, 2):\n",
    "        genres1 = set(genre_dict[artist1])\n",
    "        genres2 = set(genre_dict[artist2])\n",
    "        \n",
    "        # If they share at least one genre, create an edge\n",
    "        if genres1.intersection(genres2):\n",
    "            edge_list.append((artist1, artist2))\n",
    "    \n",
    "    return edge_list\n",
    "\n",
    "# Step 3: Create the subnetwork (only nodes with genre information)\n",
    "def create_subnetwork(graph, genre_dict):\n",
    "    nodes_with_genres = set(genre_dict.keys())\n",
    "    return graph.subgraph(nodes_with_genres)\n",
    "\n",
    "# Step 4: Apply Louvain algorithm using networkx\n",
    "def apply_louvain_communities(graph):\n",
    "    communities = louvain_communities(graph)  # Find Louvain communities\n",
    "    return communities\n",
    "\n",
    "# Step 5: Identify the 7 most common genres and 7 largest communities\n",
    "def get_top_genres_and_communities(genre_dict, communities):\n",
    "    # Get top 7 most common genres\n",
    "    all_genres = [genre for genres in genre_dict.values() for genre in genres]\n",
    "    genre_counter = Counter(all_genres)\n",
    "    top_genres = [genre for genre, _ in genre_counter.most_common(7)]\n",
    "    \n",
    "    # Get top 7 largest communities\n",
    "    community_sizes = [len(community) for community in communities]\n",
    "    top_communities = sorted(communities, key=lambda x: len(x), reverse=True)[:7]\n",
    "    \n",
    "    return top_genres, top_communities\n",
    "\n",
    "# Step 6: Create the confusion matrix\n",
    "def create_confusion_matrix(genre_dict, top_genres, top_communities):\n",
    "    # Initialize the confusion matrix\n",
    "    D = np.zeros((len(top_genres), len(top_communities)))\n",
    "\n",
    "    # Map genre to index\n",
    "    genre_to_index = {genre: idx for idx, genre in enumerate(top_genres)}\n",
    "    \n",
    "    # Loop through top communities\n",
    "    for j, community in enumerate(top_communities):\n",
    "        for node in community:\n",
    "            if node in genre_dict:\n",
    "                # Get the genres of the node\n",
    "                node_genres = genre_dict[node]\n",
    "                \n",
    "                # Increment the matrix if the genre is in the top 7 genres\n",
    "                for genre in node_genres:\n",
    "                    if genre in genre_to_index:\n",
    "                        i = genre_to_index[genre]\n",
    "                        D[i, j] += 1\n",
    "                        \n",
    "    return D\n",
    "\n",
    "# Step 7: Visualize the confusion matrix\n",
    "def visualize_confusion_matrix(D, top_genres, top_communities):\n",
    "    plt.figure(figsize=(10, 7))\n",
    "    plt.imshow(D, interpolation='nearest', cmap=plt.cm.Blues)\n",
    "    plt.title(\"Confusion Matrix: Genres vs. Communities\")\n",
    "    plt.colorbar()\n",
    "    \n",
    "    # Set genre and community labels\n",
    "    plt.xticks(np.arange(len(top_communities)), [f\"Community {i+1}\" for i in range(len(top_communities))], rotation=45)\n",
    "    plt.yticks(np.arange(len(top_genres)), top_genres)\n",
    "    \n",
    "    # Display the values in the matrix\n",
    "    for i in range(D.shape[0]):\n",
    "        for j in range(D.shape[1]):\n",
    "            plt.text(j, i, int(D[i, j]), ha='center', va='center', color='black')\n",
    "\n",
    "    plt.xlabel(\"Communities\")\n",
    "    plt.ylabel(\"Genres\")\n",
    "    plt.tight_layout()\n",
    "    plt.show()\n",
    "\n",
    "# Step 8: Main function\n",
    "def main(genre_file_path):\n",
    "    # Load genre dictionary\n",
    "    genre_dict = load_genre_dictionary(genre_file_path)\n",
    "\n",
    "    # Create the edge list based on shared genres\n",
    "    edge_list = create_edge_list(genre_dict)\n",
    "    \n",
    "    # Create a graph from the edge list\n",
    "    graph = nx.Graph(edge_list)\n",
    "\n",
    "    # Create the subnetwork (only with nodes that have genres)\n",
    "    subgraph = create_subnetwork(graph, genre_dict)\n",
    "\n",
    "    # Apply Louvain algorithm using networkx\n",
    "    communities = apply_louvain_communities(subgraph)\n",
    "\n",
    "    # Identify the top 7 most common genres and largest communities\n",
    "    top_genres, top_communities = get_top_genres_and_communities(genre_dict, communities)\n",
    "\n",
    "    # Create the confusion matrix\n",
    "    D = create_confusion_matrix(genre_dict, top_genres, top_communities)\n",
    "\n",
    "    # Visualize the confusion matrix\n",
    "    visualize_confusion_matrix(D, top_genres, top_communities)\n",
    "    return graph,communities\n",
    "\n",
    "    \n",
    " # Example usage\n",
    "genre_file_path = r\"C:\\Users\\jdiaz\\Desktop\\DTU_SocialGraphs\\socialgraphs2024\\artists_genres_dictionary.txt\"\n",
    "graph,communities = main(genre_file_path)"
   ]
  },
  {
   "cell_type": "code",
   "execution_count": 20,
   "metadata": {},
   "outputs": [
    {
     "name": "stdout",
     "output_type": "stream",
     "text": [
      "Community 1 (Jerry Lee Lewis, Larry Campbell (musician), Al Downing (musician)): Average Sentiment = 5.584956705495383\n",
      "Community 2 (Gene Clark, Zac Brown, Ashley McBryde): Average Sentiment = 5.576025413488752\n",
      "Community 3 (Gordon Lightfoot, John Denver, Lobo (musician)): Average Sentiment = 5.579142867007112\n",
      "Community 4 (Dolly Parton, Hunter Hayes, Vince Gill): Average Sentiment = 5.621362720065766\n",
      "Community 5 (Bill Engvall, Steve Martin, Larry the Cable Guy): Average Sentiment = 5.572484498389602\n",
      "Community 6 (Lorenzo Antonio, Sparx (US band)): Average Sentiment = 5.561972413793087\n",
      "Community 7 (Susan McCann, Larry Cunningham): Average Sentiment = 5.58977190868314\n",
      "\n",
      "Three Happiest Communities:\n",
      "Dolly Parton, Hunter Hayes, Vince Gill: 5.621362720065766\n",
      "Susan McCann, Larry Cunningham: 5.58977190868314\n",
      "Jerry Lee Lewis, Larry Campbell (musician), Al Downing (musician): 5.584956705495383\n",
      "\n",
      "Three Saddest Communities:\n",
      "Gene Clark, Zac Brown, Ashley McBryde: 5.576025413488752\n",
      "Bill Engvall, Steve Martin, Larry the Cable Guy: 5.572484498389602\n",
      "Lorenzo Antonio, Sparx (US band): 5.561972413793087\n",
      "\n",
      "Overall Average Sentiment (Entire Network): 5.565347773504527\n",
      "Dolly Parton, Hunter Hayes, Vince Gill sentiment difference from overall: +0.06\n",
      "Susan McCann, Larry Cunningham sentiment difference from overall: +0.02\n",
      "Jerry Lee Lewis, Larry Campbell (musician), Al Downing (musician) sentiment difference from overall: +0.02\n",
      "Gene Clark, Zac Brown, Ashley McBryde sentiment difference from overall: +0.01\n",
      "Bill Engvall, Steve Martin, Larry the Cable Guy sentiment difference from overall: +0.01\n",
      "Lorenzo Antonio, Sparx (US band) sentiment difference from overall: -0.00\n"
     ]
    }
   ],
   "source": [
    "import numpy as np\n",
    "from collections import defaultdict\n",
    "\n",
    "# Assuming artist_sentiments is already populated from your previous code\n",
    "# and `communities` is a list of sets, each containing artist names for one community.\n",
    "\n",
    "def calculate_average_community_sentiment(communities, artist_sentiments, num_top_communities=10):\n",
    "    # Filter for the top N communities (by size)\n",
    "    top_communities = sorted(communities, key=len, reverse=True)[:num_top_communities]\n",
    "    community_sentiments = {}\n",
    "    \n",
    "    # Calculate the average sentiment for each community\n",
    "    for idx, community in enumerate(top_communities):\n",
    "        sentiments = [artist_sentiments[artist] for artist in community if artist in artist_sentiments]\n",
    "        \n",
    "        # Average sentiment for the community\n",
    "        if sentiments:\n",
    "            avg_sentiment = np.mean(sentiments)\n",
    "            # Find top 3 artists by degree within the community for naming\n",
    "            top_artists = sorted(community, key=lambda artist: graph.degree[artist], reverse=True)[:3]\n",
    "            community_name = ', '.join(top_artists)\n",
    "            community_sentiments[community_name] = avg_sentiment\n",
    "            print(f\"Community {idx+1} ({community_name}): Average Sentiment = {avg_sentiment}\")\n",
    "    \n",
    "    return community_sentiments\n",
    "\n",
    "# Run the function to get average sentiment for each community\n",
    "community_sentiments = calculate_average_community_sentiment(communities, artist_sentiments)\n",
    "\n",
    "# Identify the three happiest and three saddest communities\n",
    "sorted_communities = sorted(community_sentiments.items(), key=lambda x: x[1], reverse=True)\n",
    "happiest_communities = sorted_communities[:3]\n",
    "saddest_communities = sorted_communities[-3:]\n",
    "\n",
    "print(\"\\nThree Happiest Communities:\")\n",
    "for name, sentiment in happiest_communities:\n",
    "    print(f\"{name}: {sentiment}\")\n",
    "\n",
    "print(\"\\nThree Saddest Communities:\")\n",
    "for name, sentiment in saddest_communities:\n",
    "    print(f\"{name}: {sentiment}\")\n",
    "\n",
    "# Compare to overall average sentiment\n",
    "overall_avg_sentiment = np.mean(list(artist_sentiments.values()))\n",
    "print(f\"\\nOverall Average Sentiment (Entire Network): {overall_avg_sentiment}\")\n",
    "\n",
    "# Evaluate community sentiment difference from overall network sentiment\n",
    "for name, sentiment in happiest_communities + saddest_communities:\n",
    "    diff = sentiment - overall_avg_sentiment\n",
    "    print(f\"{name} sentiment difference from overall: {diff:+.2f}\")\n"
   ]
  }
 ],
 "metadata": {
  "kernelspec": {
   "display_name": "Python 3 (ipykernel)",
   "language": "python",
   "name": "python3"
  },
  "language_info": {
   "codemirror_mode": {
    "name": "ipython",
    "version": 3
   },
   "file_extension": ".py",
   "mimetype": "text/x-python",
   "name": "python",
   "nbconvert_exporter": "python",
   "pygments_lexer": "ipython3",
   "version": "3.11.4"
  }
 },
 "nbformat": 4,
 "nbformat_minor": 4
}
