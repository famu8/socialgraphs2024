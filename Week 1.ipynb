{
 "cells": [
  {
   "cell_type": "markdown",
   "id": "3547b3af",
   "metadata": {},
   "source": [
    "# Week 1\n",
    "\n",
    "**Part 1:**\n",
    "\n",
    "Explain in your own words: What is the the difference between the html page and the wiki-source? The html page has a lot more things to modify/play with, the wiki source is way more straight forward. The wiki source is more oriented to communicate the ideas, in a simple format, bein easier for people to write it. \n",
    "\n",
    "\n",
    "What are the various parameters you can set for a query of the wikipedia api?\n",
    "Actions like query, title of the page, properties to say what we are interested in\n",
    "\n",
    "Write your own little notebook to download wikipedia pages based on the video above. Download the source for your 4 favorite wikipedia pages.\n"
   ]
  },
  {
   "cell_type": "code",
   "execution_count": 1,
   "id": "efa5baa9",
   "metadata": {
    "scrolled": true
   },
   "outputs": [
    {
     "name": "stdout",
     "output_type": "stream",
     "text": [
      "Downloading source for: Collado Villalba\n",
      "{{Expand Spanish|topic=geo|date=June 2012|Collado Villalba}}\n",
      "{{for|the football club|CU Collado Villalba}}\n",
      "{{Infobox settlement\n",
      "| official_name      = Collado Villalba\n",
      "| other_name         = Villalba\n",
      "| native_name        = <!-- for cities whose native name is not in English -->\n",
      "| nickname           = \n",
      "| motto              = \n",
      "| image_skyline      = \n",
      "| imagesize          = \n",
      "| image_caption      = \n",
      "| image_flag         = Bandera Collado Villalba.jpg\n",
      "| flag_size          = 150px\n",
      "| image_seal        \n",
      "\n",
      "--------------------------------------------------------------------------------\n",
      "\n",
      "Downloading source for: Kaydy Cain\n",
      "{{Short description|Spanish singer}}\n",
      "{{family name hatnote|Gómez|Carrero|lang=Spanish}}\n",
      "{{Infobox musical artist\n",
      "| name            = Kaydy Cain\n",
      "| image           = Kaydy Cain, Seat village stage 2 (cropped).jpg\n",
      "| alt             =\n",
      "| caption         = Kaydy Cain performing at [[Primavera Sound]] 2019.\n",
      "| birth_name      = Daniel Gómez Carrero\n",
      "| alias           = Daniel Gómez Can and Kaydy Cain\n",
      "| birth_date      = {{Birth date and age|1990\n",
      "|2|12|df=yes}}\n",
      "| birth_place     = [[Madrid]], [[Spain]]\n",
      "| \n",
      "\n",
      "--------------------------------------------------------------------------------\n",
      "\n"
     ]
    }
   ],
   "source": [
    "import requests\n",
    "\n",
    "def get_wikipedia_page_source(title):\n",
    "    \"\"\"\n",
    "    Fetches the wiki-source of a Wikipedia page using the Wikipedia API.\n",
    "    :param title: Title of the Wikipedia page\n",
    "    :return: Raw wiki-source (wikitext) of the page\n",
    "    \"\"\"\n",
    "    url = \"https://en.wikipedia.org/w/api.php\"\n",
    "    params = {\n",
    "        \"action\": \"query\",\n",
    "        \"format\": \"json\",\n",
    "        \"prop\": \"revisions\",\n",
    "        \"titles\": title,\n",
    "        \"rvprop\": \"content\",\n",
    "        \"rvslots\": \"main\"\n",
    "    }\n",
    "\n",
    "    response = requests.get(url, params=params)\n",
    "    data = response.json()\n",
    "\n",
    "    pages = data.get(\"query\", {}).get(\"pages\", {})\n",
    "    page_id, page_data = next(iter(pages.items()))\n",
    "    \n",
    "    if page_id == \"-1\":\n",
    "        return f\"Page '{title}' not found.\"\n",
    "\n",
    "    return page_data[\"revisions\"][0][\"slots\"][\"main\"][\"*\"]\n",
    "\n",
    "# Define your 4 favorite Wikipedia pages\n",
    "favorite_pages = [\n",
    "    \"Collado Villalba\",\n",
    "    \"Kaydy Cain\"]\n",
    "\n",
    "# Download the source for each page\n",
    "for page in favorite_pages:\n",
    "    print(f\"Downloading source for: {page}\")\n",
    "    page_source = get_wikipedia_page_source(page)\n",
    "    print(page_source[:500])  # Print the first 500 characters of each page source\n",
    "    print(\"\\n\" + \"-\" * 80 + \"\\n\")\n"
   ]
  },
  {
   "cell_type": "markdown",
   "id": "a1f49440",
   "metadata": {},
   "source": [
    "**Part 2:**\n",
    "\n",
    "List three different real networks and state the nodes and links for each of them. \n",
    "\n",
    "Social media (facebook), where each user is a node and the links would be the friendships between each user.\n",
    "\n",
    "Transport network (airline), each aiport is a node, and the links are the routes between them.\n",
    "\n",
    "Biological network (proteins), each protein/enzyme is a node, and they interact through different processes or mechanisms as links.\n",
    "\n",
    "Tell us of the network you are personally most interested in (a fourth one). Address the following questions:\n",
    "What are its nodes and links? Neurons and Synapses \n",
    "\n",
    "How large is it? 86 billion neurons aprox\n",
    "\n",
    "Can be mapped out? Yes, different neuroimaging techniques like fMRI and dMRI\n",
    "\n",
    "Does it evolve over time? Yes, there are changes (neuroplasticity)\n",
    "\n",
    "Are there processes occurring ON the network? (information spreading, for example) Yes, there is constant communication and many synapses and processes interact.\n",
    "\n",
    "Why do you care about it? It is important to understand how brain works for neurological diseases. \n",
    "\n",
    "In your view what would be the area where network science could have the biggest impact in the next decade? Explain your answer - and base it on the text in the book.\n",
    "\n",
    "Social networks or biological networks for targeted therapy. "
   ]
  },
  {
   "cell_type": "code",
   "execution_count": 4,
   "id": "517e25ed",
   "metadata": {},
   "outputs": [
    {
     "name": "stdout",
     "output_type": "stream",
     "text": [
      "Collecting networkx\n",
      "  Downloading networkx-3.3-py3-none-any.whl.metadata (5.1 kB)\n",
      "Downloading networkx-3.3-py3-none-any.whl (1.7 MB)\n",
      "   ---------------------------------------- 0.0/1.7 MB ? eta -:--:--\n",
      "   ---------------------------------------- 0.0/1.7 MB ? eta -:--:--\n",
      "   ---------------------------------------- 0.0/1.7 MB ? eta -:--:--\n",
      "   ------ --------------------------------- 0.3/1.7 MB ? eta -:--:--\n",
      "   ------ --------------------------------- 0.3/1.7 MB ? eta -:--:--\n",
      "   ------------ --------------------------- 0.5/1.7 MB 728.2 kB/s eta 0:00:02\n",
      "   ------------------ --------------------- 0.8/1.7 MB 799.2 kB/s eta 0:00:02\n",
      "   ------------------------ --------------- 1.0/1.7 MB 931.8 kB/s eta 0:00:01\n",
      "   ------------------------------ --------- 1.3/1.7 MB 1.0 MB/s eta 0:00:01\n",
      "   ---------------------------------------- 1.7/1.7 MB 1.1 MB/s eta 0:00:00\n",
      "Installing collected packages: networkx\n",
      "Successfully installed networkx-3.3\n"
     ]
    }
   ],
   "source": [
    "!pip install networkx"
   ]
  },
  {
   "cell_type": "markdown",
   "id": "54a10728",
   "metadata": {},
   "source": [
    "**Part 3:**\n",
    "\n",
    "**Creating a graph**"
   ]
  },
  {
   "cell_type": "code",
   "execution_count": 7,
   "id": "725a6ecb",
   "metadata": {},
   "outputs": [
    {
     "data": {
      "text/plain": [
       "<networkx.classes.graph.Graph at 0x26999bd2050>"
      ]
     },
     "execution_count": 7,
     "metadata": {},
     "output_type": "execute_result"
    }
   ],
   "source": [
    "import networkx as nx\n",
    "G = nx.Graph() # collection of nodes which are paired by links\n",
    "\n",
    "# add the first node\n",
    "G.add_node(1)\n",
    "\n",
    "# to speed up add at the same time several nodes, with associated attributes\n",
    "G.add_nodes_from([(2,{\"color\":\"red\"}),(3,{\"color\":\"blue\"})])\n",
    "\n",
    "# We can create graphs with default architectures as in \n",
    "H = nx.path_graph(10)\n",
    "# and merge graphs \n",
    "G.add_nodes_from(H)\n"
   ]
  },
  {
   "cell_type": "code",
   "execution_count": 9,
   "id": "98f91fc9",
   "metadata": {},
   "outputs": [],
   "source": [
    "# Adding edges to the network\n",
    "G.add_edge(1,2) # at a time\n",
    "\n",
    "G.add_edges_from([(1,2),(1,3)]) # various edges at the same time\n",
    "\n",
    "G.clear() # Remove all nodes and edges"
   ]
  },
  {
   "cell_type": "code",
   "execution_count": 10,
   "id": "72ae7700",
   "metadata": {},
   "outputs": [],
   "source": [
    "G.add_edges_from([(1, 2), (1, 3)])\n",
    "G.add_node(1)\n",
    "G.add_edge(1, 2)\n",
    "G.add_node(\"spam\")        # adds node \"spam\"\n",
    "G.add_nodes_from(\"spam\")  # adds 4 nodes: 's', 'p', 'a', 'm'\n",
    "G.add_edge(3, 'm')"
   ]
  },
  {
   "cell_type": "markdown",
   "id": "796a732b",
   "metadata": {},
   "source": [
    "**Examining elements of a graph**"
   ]
  },
  {
   "cell_type": "code",
   "execution_count": 11,
   "id": "5637fc8e",
   "metadata": {},
   "outputs": [
    {
     "data": {
      "text/plain": [
       "3"
      ]
     },
     "execution_count": 11,
     "metadata": {},
     "output_type": "execute_result"
    }
   ],
   "source": [
    "# View status of the graph\n",
    "G.number_of_nodes()\n",
    "G.number_of_edges()"
   ]
  },
  {
   "cell_type": "code",
   "execution_count": 16,
   "id": "45c27c69",
   "metadata": {},
   "outputs": [
    {
     "data": {
      "text/plain": [
       "EdgeDataView([(2, 1), ('m', 3)])"
      ]
     },
     "execution_count": 16,
     "metadata": {},
     "output_type": "execute_result"
    }
   ],
   "source": [
    "list(G.nodes) \n",
    "list(G.edges)\n",
    "list(G.adj[1]) #adjacent or neighbors \n",
    "G.degree[1] # number of edges incident to 1\n",
    "\n",
    "# Easier report do G.edges([]) and G.degree([])\n",
    "G.edges([2, 'm'])\n"
   ]
  },
  {
   "cell_type": "markdown",
   "id": "9661bf17",
   "metadata": {},
   "source": [
    "**Removing elements from a graph**"
   ]
  },
  {
   "cell_type": "code",
   "execution_count": null,
   "id": "1421c325",
   "metadata": {},
   "outputs": [],
   "source": [
    "G.remove_node(2)\n",
    "G.remove_nodes_from(\"spam\")\n",
    "list(G.nodes)\n",
    "G.remove_edge(1, 3)\n",
    "list(G)"
   ]
  },
  {
   "cell_type": "markdown",
   "id": "65f4f39d",
   "metadata": {},
   "source": [
    "**Graph Constructors**"
   ]
  },
  {
   "cell_type": "code",
   "execution_count": 17,
   "id": "acac478b",
   "metadata": {},
   "outputs": [
    {
     "data": {
      "text/plain": [
       "[(1, 2), (1, 3), (2, 1), (3, 1), (3, 'm'), ('m', 3)]"
      ]
     },
     "execution_count": 17,
     "metadata": {},
     "output_type": "execute_result"
    }
   ],
   "source": [
    "# Specifying graph structure passed directly.\n",
    "G.add_edge(1, 2)\n",
    "H = nx.DiGraph(G)  # create a DiGraph using the connections from G\n",
    "list(H.edges())"
   ]
  },
  {
   "cell_type": "markdown",
   "id": "bc296f54",
   "metadata": {},
   "source": [
    "**Accessing edges and neighbors**"
   ]
  },
  {
   "cell_type": "code",
   "execution_count": 19,
   "id": "24beebd8",
   "metadata": {},
   "outputs": [
    {
     "name": "stdout",
     "output_type": "stream",
     "text": [
      "(1, 2, 0.125)\n",
      "(2, 1, 0.125)\n",
      "(3, 4, 0.375)\n",
      "(4, 3, 0.375)\n",
      "(1, 2, 0.125)\n",
      "(3, 4, 0.375)\n"
     ]
    }
   ],
   "source": [
    "G.add_edge(1, 3)\n",
    "# Set attributes of graph\n",
    "G[1][3]['color'] = \"blue\"\n",
    "G.edges[1, 2]['color'] = \"red\"\n",
    "G.edges[1, 2]\n",
    "\n",
    "# Examining (node, adjacency) pairs\n",
    "\n",
    "FG = nx.Graph()\n",
    "FG.add_weighted_edges_from([(1, 2, 0.125), (1, 3, 0.75), (2, 4, 1.2), (3, 4, 0.375)])\n",
    "for n, nbrs in FG.adj.items():\n",
    "    for nbr, eattr in nbrs.items():\n",
    "        wt = eattr['weight']\n",
    "        if wt < 0.5: print(f\"({n}, {nbr}, {wt:.3})\")\n",
    "            \n",
    "# With edges property            \n",
    "for (u, v, wt) in FG.edges.data('weight'):\n",
    "    if wt < 0.5:\n",
    "        print(f\"({u}, {v}, {wt:.3})\")"
   ]
  },
  {
   "cell_type": "markdown",
   "id": "f48d5f9d",
   "metadata": {},
   "source": [
    "**Graph Attributes**"
   ]
  },
  {
   "cell_type": "code",
   "execution_count": null,
   "id": "8efd51ba",
   "metadata": {},
   "outputs": [],
   "source": [
    "G = nx.Graph(day=\"Friday\") # Assign attributes when creating graph\n",
    "G.graph\n",
    "G.graph['day'] = \"Monday\"\n",
    "\n",
    "# add node attributes\n",
    "G.add_node(1, time='5pm')\n",
    "G.add_nodes_from([3], time='2pm')\n",
    "G.nodes[1]\n",
    "\n",
    "# edge attributes\n",
    "G.add_edge(1, 2, weight=4.7 )\n",
    "G.add_edges_from([(3, 4), (4, 5)], color='red')\n",
    "G.add_edges_from([(1, 2, {'color': 'blue'}), (2, 3, {'weight': 8})])\n",
    "G[1][2]['weight'] = 4.7\n",
    "G.edges[3, 4]['weight'] = 4.2"
   ]
  },
  {
   "cell_type": "markdown",
   "id": "0b9e318c",
   "metadata": {},
   "source": [
    "**Multigraphs**"
   ]
  },
  {
   "cell_type": "code",
   "execution_count": 20,
   "id": "84d15bb7",
   "metadata": {},
   "outputs": [
    {
     "data": {
      "text/plain": [
       "{1: 1.25, 2: 1.75, 3: 0.5}"
      ]
     },
     "execution_count": 20,
     "metadata": {},
     "output_type": "execute_result"
    }
   ],
   "source": [
    "# put more than one edge between two nodes\n",
    "\n",
    "MG = nx.MultiGraph()\n",
    "MG.add_weighted_edges_from([(1, 2, 0.5), (1, 2, 0.75), (2, 3, 0.5)])\n",
    "dict(MG.degree(weight='weight'))"
   ]
  },
  {
   "cell_type": "markdown",
   "id": "b1859a36",
   "metadata": {},
   "source": [
    "**Drawing Graphs**"
   ]
  },
  {
   "cell_type": "code",
   "execution_count": 24,
   "id": "805093d9",
   "metadata": {},
   "outputs": [
    {
     "name": "stdout",
     "output_type": "stream",
     "text": [
      "Collecting matplotlib\n",
      "  Downloading matplotlib-3.9.2-cp311-cp311-win_amd64.whl.metadata (11 kB)\n",
      "Collecting contourpy>=1.0.1 (from matplotlib)\n",
      "  Downloading contourpy-1.3.0-cp311-cp311-win_amd64.whl.metadata (5.4 kB)\n",
      "Collecting cycler>=0.10 (from matplotlib)\n",
      "  Downloading cycler-0.12.1-py3-none-any.whl.metadata (3.8 kB)\n",
      "Collecting fonttools>=4.22.0 (from matplotlib)\n",
      "  Downloading fonttools-4.53.1-cp311-cp311-win_amd64.whl.metadata (165 kB)\n",
      "Collecting kiwisolver>=1.3.1 (from matplotlib)\n",
      "  Downloading kiwisolver-1.4.7-cp311-cp311-win_amd64.whl.metadata (6.4 kB)\n",
      "Requirement already satisfied: numpy>=1.23 in c:\\users\\jdiaz\\appdata\\local\\programs\\python\\python311\\lib\\site-packages (from matplotlib) (1.26.4)\n",
      "Requirement already satisfied: packaging>=20.0 in c:\\users\\jdiaz\\appdata\\local\\programs\\python\\python311\\lib\\site-packages (from matplotlib) (23.2)\n",
      "Collecting pillow>=8 (from matplotlib)\n",
      "  Downloading pillow-10.4.0-cp311-cp311-win_amd64.whl.metadata (9.3 kB)\n",
      "Collecting pyparsing>=2.3.1 (from matplotlib)\n",
      "  Downloading pyparsing-3.1.4-py3-none-any.whl.metadata (5.1 kB)\n",
      "Requirement already satisfied: python-dateutil>=2.7 in c:\\users\\jdiaz\\appdata\\local\\programs\\python\\python311\\lib\\site-packages (from matplotlib) (2.8.2)\n",
      "Requirement already satisfied: six>=1.5 in c:\\users\\jdiaz\\appdata\\local\\programs\\python\\python311\\lib\\site-packages (from python-dateutil>=2.7->matplotlib) (1.16.0)\n",
      "Downloading matplotlib-3.9.2-cp311-cp311-win_amd64.whl (7.8 MB)\n",
      "   ---------------------------------------- 0.0/7.8 MB ? eta -:--:--\n",
      "   - -------------------------------------- 0.3/7.8 MB ? eta -:--:--\n",
      "   -- ------------------------------------- 0.5/7.8 MB 1.7 MB/s eta 0:00:05\n",
      "   ----- ---------------------------------- 1.0/7.8 MB 1.7 MB/s eta 0:00:04\n",
      "   -------- ------------------------------- 1.6/7.8 MB 2.0 MB/s eta 0:00:04\n",
      "   --------- ------------------------------ 1.8/7.8 MB 2.0 MB/s eta 0:00:04\n",
      "   ---------- ----------------------------- 2.1/7.8 MB 1.8 MB/s eta 0:00:04\n",
      "   ------------ --------------------------- 2.4/7.8 MB 1.8 MB/s eta 0:00:04\n",
      "   -------------- ------------------------- 2.9/7.8 MB 1.7 MB/s eta 0:00:03\n",
      "   ---------------- ----------------------- 3.1/7.8 MB 1.7 MB/s eta 0:00:03\n",
      "   ----------------- ---------------------- 3.4/7.8 MB 1.6 MB/s eta 0:00:03\n",
      "   ------------------ --------------------- 3.7/7.8 MB 1.6 MB/s eta 0:00:03\n",
      "   -------------------- ------------------- 3.9/7.8 MB 1.6 MB/s eta 0:00:03\n",
      "   ---------------------- ----------------- 4.5/7.8 MB 1.6 MB/s eta 0:00:03\n",
      "   ------------------------ --------------- 4.7/7.8 MB 1.6 MB/s eta 0:00:02\n",
      "   -------------------------- ------------- 5.2/7.8 MB 1.6 MB/s eta 0:00:02\n",
      "   ---------------------------- ----------- 5.5/7.8 MB 1.6 MB/s eta 0:00:02\n",
      "   ------------------------------ --------- 6.0/7.8 MB 1.6 MB/s eta 0:00:02\n",
      "   -------------------------------- ------- 6.3/7.8 MB 1.7 MB/s eta 0:00:01\n",
      "   ---------------------------------- ----- 6.8/7.8 MB 1.7 MB/s eta 0:00:01\n",
      "   ------------------------------------ --- 7.1/7.8 MB 1.7 MB/s eta 0:00:01\n",
      "   ------------------------------------ --- 7.1/7.8 MB 1.7 MB/s eta 0:00:01\n",
      "   ------------------------------------- -- 7.3/7.8 MB 1.6 MB/s eta 0:00:01\n",
      "   -------------------------------------- - 7.6/7.8 MB 1.6 MB/s eta 0:00:01\n",
      "   ---------------------------------------- 7.8/7.8 MB 1.6 MB/s eta 0:00:00\n",
      "Downloading contourpy-1.3.0-cp311-cp311-win_amd64.whl (217 kB)\n",
      "Downloading cycler-0.12.1-py3-none-any.whl (8.3 kB)\n",
      "Downloading fonttools-4.53.1-cp311-cp311-win_amd64.whl (2.2 MB)\n",
      "   ---------------------------------------- 0.0/2.2 MB ? eta -:--:--\n",
      "   ---- ----------------------------------- 0.3/2.2 MB ? eta -:--:--\n",
      "   --------- ------------------------------ 0.5/2.2 MB 1.5 MB/s eta 0:00:02\n",
      "   -------------- ------------------------- 0.8/2.2 MB 1.3 MB/s eta 0:00:02\n",
      "   ------------------- -------------------- 1.0/2.2 MB 1.4 MB/s eta 0:00:01\n",
      "   ----------------------- ---------------- 1.3/2.2 MB 1.3 MB/s eta 0:00:01\n",
      "   ----------------------- ---------------- 1.3/2.2 MB 1.3 MB/s eta 0:00:01\n",
      "   --------------------------------- ------ 1.8/2.2 MB 1.2 MB/s eta 0:00:01\n",
      "   ---------------------------------------- 2.2/2.2 MB 1.3 MB/s eta 0:00:00\n",
      "Downloading kiwisolver-1.4.7-cp311-cp311-win_amd64.whl (56 kB)\n",
      "Downloading pillow-10.4.0-cp311-cp311-win_amd64.whl (2.6 MB)\n",
      "   ---------------------------------------- 0.0/2.6 MB ? eta -:--:--\n",
      "   ---- ----------------------------------- 0.3/2.6 MB ? eta -:--:--\n",
      "   -------- ------------------------------- 0.5/2.6 MB 1.5 MB/s eta 0:00:02\n",
      "   ---------------- ----------------------- 1.0/2.6 MB 1.8 MB/s eta 0:00:01\n",
      "   -------------------- ------------------- 1.3/2.6 MB 1.6 MB/s eta 0:00:01\n",
      "   ------------------------ --------------- 1.6/2.6 MB 1.7 MB/s eta 0:00:01\n",
      "   -------------------------------- ------- 2.1/2.6 MB 1.8 MB/s eta 0:00:01\n",
      "   ------------------------------------ --- 2.4/2.6 MB 1.7 MB/s eta 0:00:01\n",
      "   ---------------------------------------- 2.6/2.6 MB 1.6 MB/s eta 0:00:00\n",
      "Downloading pyparsing-3.1.4-py3-none-any.whl (104 kB)\n",
      "Installing collected packages: pyparsing, pillow, kiwisolver, fonttools, cycler, contourpy, matplotlib\n",
      "Successfully installed contourpy-1.3.0 cycler-0.12.1 fonttools-4.53.1 kiwisolver-1.4.7 matplotlib-3.9.2 pillow-10.4.0 pyparsing-3.1.4\n"
     ]
    }
   ],
   "source": [
    "!pip install matplotlib "
   ]
  },
  {
   "cell_type": "code",
   "execution_count": 25,
   "id": "35bd9281",
   "metadata": {},
   "outputs": [
    {
     "data": {
      "image/png": "[encoded data removed]",
      "text/plain": [
       "<Figure size 640x480 with 2 Axes>"
      ]
     },
     "metadata": {},
     "output_type": "display_data"
    }
   ],
   "source": [
    "import matplotlib.pyplot as plt\n",
    "\n",
    "G = nx.petersen_graph()\n",
    "subax1 = plt.subplot(121)\n",
    "nx.draw(G, with_labels=True, font_weight='bold')\n",
    "subax2 = plt.subplot(122)\n",
    "nx.draw_shell(G, nlist=[range(5, 10), range(5)], with_labels=True, font_weight='bold')"
   ]
  },
  {
   "cell_type": "markdown",
   "id": "b21c9a9b",
   "metadata": {},
   "source": [
    "**Graph Analysis**"
   ]
  },
  {
   "cell_type": "code",
   "execution_count": null,
   "id": "3fe6841d",
   "metadata": {},
   "outputs": [],
   "source": [
    "# We can analyze the structure of "
   ]
  }
 ],
 "metadata": {
  "kernelspec": {
   "display_name": "Python 3 (ipykernel)",
   "language": "python",
   "name": "python3"
  },
  "language_info": {
   "codemirror_mode": {
    "name": "ipython",
    "version": 3
   },
   "file_extension": ".py",
   "mimetype": "text/x-python",
   "name": "python",
   "nbconvert_exporter": "python",
   "pygments_lexer": "ipython3",
   "version": "3.11.4"
  }
 },
 "nbformat": 4,
 "nbformat_minor": 5
}
